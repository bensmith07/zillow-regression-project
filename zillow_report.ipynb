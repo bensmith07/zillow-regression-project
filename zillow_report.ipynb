{
 "cells": [
  {
   "cell_type": "code",
   "execution_count": 1,
   "id": "754d9210",
   "metadata": {},
   "outputs": [],
   "source": [
    "import acquire\n",
    "import prepare\n",
    "import explore\n",
    "import model\n",
    "import pandas as pd\n",
    "\n",
    "import warnings\n",
    "warnings.filterwarnings('ignore')"
   ]
  },
  {
   "cell_type": "markdown",
   "id": "a337b41b",
   "metadata": {},
   "source": [
    "# Project Overview\n",
    "\n",
    "We will conduct an in depth analysis of Zillow property data from 2017. We will use exploratory analysis techniques to identify the key drivers of the assessed tax value for those properties, then use machine learning algorithms to create a model capable of predicting tax values based on features of the property. \n",
    "\n",
    "## Project Description\n",
    "\n",
    "Property values have skyrocketed over the last two years. With such rapid changes in home values, predicting those values has become even more challenging than before. Since Zillow's estimate of home value is one of the primary drivers of its website traffic, having a reliable estimate is paramount. Any improvement we can make on the previous model will help Zillow out-estimate its competitors and keep them at the top as the most trusted name in real estate technology. \n",
    "\n",
    "This project will analyze property attributes in relation to their 2017 assessed tax value, develop a model for predicting that value based on those attributes, and leave with recommendations for how to improve future predictions. \n",
    "\n",
    "## Project Goals\n",
    "\n",
    "By improving upon the previous model, Zillow can enhance it's reputation for reliable property value estimates and better position itself in the real estate technology marketplace. \n"
   ]
  },
  {
   "cell_type": "markdown",
   "id": "e96ed593",
   "metadata": {},
   "source": [
    "# Acquisition"
   ]
  },
  {
   "cell_type": "markdown",
   "id": "b9d1485c",
   "metadata": {},
   "source": [
    "In this stage, we use a SQL query to access the Codeup MySQL database and join together all the relevant data using the following tables:\n",
    "\n",
    "- properties_2017\n",
    "- propertylandusetype\n",
    "- predictions_2017\n",
    "\n",
    "The data obtained includes all properties in the dataset which had a transaction in 2017.\n",
    "\n",
    "The `zillow_2017_data` function from the `acquire` module performs this acquisition."
   ]
  },
  {
   "cell_type": "code",
   "execution_count": 3,
   "id": "52915c6e",
   "metadata": {},
   "outputs": [
    {
     "name": "stdout",
     "output_type": "stream",
     "text": [
      "Reading from local CSV...\n"
     ]
    }
   ],
   "source": [
    "# acquire the data from the Codeup cloud database\n",
    "df = acquire.zillow_2017_data()"
   ]
  },
  {
   "cell_type": "code",
   "execution_count": 4,
   "id": "f813c395",
   "metadata": {},
   "outputs": [
    {
     "name": "stdout",
     "output_type": "stream",
     "text": [
      "<class 'pandas.core.frame.DataFrame'>\n",
      "RangeIndex: 52441 entries, 0 to 52440\n",
      "Data columns (total 9 columns):\n",
      " #   Column                        Non-Null Count  Dtype  \n",
      "---  ------                        --------------  -----  \n",
      " 0   bedroomcnt                    52441 non-null  float64\n",
      " 1   bathroomcnt                   52441 non-null  float64\n",
      " 2   calculatedfinishedsquarefeet  52359 non-null  float64\n",
      " 3   taxvaluedollarcnt             52440 non-null  float64\n",
      " 4   yearbuilt                     52325 non-null  float64\n",
      " 5   fips                          52441 non-null  float64\n",
      " 6   garagetotalsqft               18015 non-null  float64\n",
      " 7   poolcnt                       11096 non-null  float64\n",
      " 8   lotsizesquarefeet             52072 non-null  float64\n",
      "dtypes: float64(9)\n",
      "memory usage: 3.6 MB\n"
     ]
    }
   ],
   "source": [
    "df.info()"
   ]
  },
  {
   "cell_type": "markdown",
   "id": "8351f657",
   "metadata": {},
   "source": [
    "# Preparation\n",
    "\n",
    "In this stage, we clean and prepare the data for further exploration and modeling and encapsulate the relevant code in the prepare modele. \n",
    "\n",
    "The `prep_zillow_1` function accomplishes the following:\n",
    "\n",
    "- replaces null values for garage area and pool count with 0's, since null values likely represent no garage/pool on the property\n",
    "- checks for null values and removes all rows with null values if the number of null values is less than 5% the number of observations in the dataset. \n",
    "    - less than 5% of values is judged to not have a significant effect on a large dataset. Greater than 5% of values might require additional consideration. \n",
    "    - in this case we removed about 0.2% of the total observations due to null values\n",
    "- renames columns for readability\n",
    "- changes data types where appropriate (such as numerical codes into string values)\n",
    "- adds a feature 'age', which represents years since the home was constructed"
   ]
  },
  {
   "cell_type": "code",
   "execution_count": 5,
   "id": "862a96e4",
   "metadata": {},
   "outputs": [],
   "source": [
    "# clean and prep the data using the steps outlined above\n",
    "df = prepare.prep_zillow_1(df)"
   ]
  },
  {
   "cell_type": "markdown",
   "id": "a94fc771",
   "metadata": {},
   "source": [
    "The `train_test_validate_split` function **Splits the data** into train, test, and validate samples"
   ]
  },
  {
   "cell_type": "code",
   "execution_count": 6,
   "id": "d96d6094",
   "metadata": {},
   "outputs": [
    {
     "name": "stdout",
     "output_type": "stream",
     "text": [
      "train\t n = 29096\n",
      "test\t n = 10392\n",
      "validate n = 12471\n"
     ]
    }
   ],
   "source": [
    "# split the data into three samples and print the sample sizes\n",
    "train, test, validate = prepare.train_test_validate_split(df)"
   ]
  },
  {
   "cell_type": "markdown",
   "id": "be63b493",
   "metadata": {},
   "source": [
    "**Removing Outliers**\n",
    "\n",
    "During initial exploration, it was discovered that extreme outliers exist in the categories of tax_value, bedrooms, bathrooms, sqft, and age. \n",
    "\n",
    "We judge that out model will generalize more effectively if it is focused on the typical (i.e. median) homes. Further, we expect that markets for luxury and historical homes (likely represented by these outliers) are considerably different than the general home market, and that an altogether separate model would be more useful for predicting the values of such homes. \n",
    "\n",
    "We will therefore drop outliers from this dataset. \n",
    "\n",
    "The `remove` outliers function calculates a range defining outliers based on the training sample, then removes values outside this range in all samples."
   ]
  },
  {
   "cell_type": "code",
   "execution_count": 7,
   "id": "52a79fc6",
   "metadata": {},
   "outputs": [
    {
     "name": "stdout",
     "output_type": "stream",
     "text": [
      "train\t n = 19978\n",
      "test\t n = 7105\n",
      "validate n = 8481\n"
     ]
    }
   ],
   "source": [
    "# remove outliers based on a range calculated from the training sample\n",
    "train, validate, test = prepare.remove_outliers(train, validate, test, 1.5, ['bedrooms', 'bathrooms',\n",
    "                                                                             'sqft', 'age', 'tax_value',\n",
    "                                                                             'garage_sqft', 'pools', 'lot_sqft'])"
   ]
  },
  {
   "cell_type": "markdown",
   "id": "0f48e6a8",
   "metadata": {},
   "source": [
    "# Exploration"
   ]
  },
  {
   "cell_type": "markdown",
   "id": "3e6a299b",
   "metadata": {},
   "source": [
    "### Which features have the highest correlations with tax_value?\n",
    "\n",
    "The `value_correlations()` function from the `explore` module displays a heatmap of correlations between each feature and our target variable. "
   ]
  },
  {
   "cell_type": "code",
   "execution_count": 8,
   "id": "e7f3dd55",
   "metadata": {
    "scrolled": false
   },
   "outputs": [
    {
     "data": {
      "image/png": "[encoded data removed]",
      "text/plain": [
       "<Figure size 720x576 with 2 Axes>"
      ]
     },
     "metadata": {
      "needs_background": "light"
     },
     "output_type": "display_data"
    }
   ],
   "source": [
    "# use seaborn to visualize the correlations with a heatmap\n",
    "explore.value_correlations(train)"
   ]
  },
  {
   "cell_type": "markdown",
   "id": "97206cc2",
   "metadata": {},
   "source": [
    "We can see that of our features, sqft and bathrooms have the highest correlation with the tax value of the home. The .45 and .37 r values are considerably higher than the next highest correlation of .26.\n",
    "\n",
    "Are these correlation values statistically significant?"
   ]
  },
  {
   "cell_type": "markdown",
   "id": "b3afaf99",
   "metadata": {},
   "source": [
    "### Further exploration: Is there a significant correlation between number of bathrooms and value?\n",
    "\n",
    "The `value_by_bathrooms` function from the `explore` module displays boxplots for each number of bathrooms in our sample. We can see that as the nuber of bathrooms increases, the median value tends to be higher, and the overall distribution of values tends to be higher as well. "
   ]
  },
  {
   "cell_type": "code",
   "execution_count": 9,
   "id": "ac8c82f9",
   "metadata": {},
   "outputs": [
    {
     "data": {
      "image/png": "[encoded data removed]",
      "text/plain": [
       "<Figure size 720x576 with 1 Axes>"
      ]
     },
     "metadata": {
      "needs_background": "light"
     },
     "output_type": "display_data"
    }
   ],
   "source": [
    "# use seaborn to visualize property value by number of bathrooms with boxplots\n",
    "explore.value_by_bathrooms(train)"
   ]
  },
  {
   "cell_type": "markdown",
   "id": "39a68123",
   "metadata": {},
   "source": [
    "The `correlation_test` function from the `explore` module performs a Pearson's r statistical test for correlation:"
   ]
  },
  {
   "cell_type": "code",
   "execution_count": 10,
   "id": "6e0984b0",
   "metadata": {},
   "outputs": [
    {
     "name": "stdout",
     "output_type": "stream",
     "text": [
      "H0: There is no linear correlation between bathrooms and tax_value.\n",
      "H1: There is a linear correlation between bathrooms and tax_value.\n",
      "\n",
      "r =  0.37\n",
      "p =  0.0\n",
      "\n",
      "Reject H0\n"
     ]
    }
   ],
   "source": [
    "# conduct a statistical test for correlation\n",
    "explore.correlation_test(train.bathrooms, train.tax_value)"
   ]
  },
  {
   "cell_type": "markdown",
   "id": "3e417e06",
   "metadata": {},
   "source": [
    "With a p-value of virtually 0, we reject the null hypothesis and proceed under the assumption that there is a linear relationship between number of bathrooms and tax_value. since this relationship is unlikely to be due to chance. "
   ]
  },
  {
   "cell_type": "markdown",
   "id": "d3bba730",
   "metadata": {},
   "source": [
    "### Further exploration: Is there a significant correlation between the number of bedrooms in a home and it's value?\n",
    "\n",
    "The `value_by_bedrooms` function from the `explore` module displays boxplots for each number of bedrooms in our sample. We can see that as the nuber of bedrooms increases, the median value tends to be higher, and the overall distribution of values tends to be higher as well. "
   ]
  },
  {
   "cell_type": "code",
   "execution_count": 11,
   "id": "a82a7ff8",
   "metadata": {},
   "outputs": [
    {
     "data": {
      "image/png": "[encoded data removed]",
      "text/plain": [
       "<Figure size 720x576 with 1 Axes>"
      ]
     },
     "metadata": {
      "needs_background": "light"
     },
     "output_type": "display_data"
    }
   ],
   "source": [
    "# conduct a statistical test for correlation\n",
    "explore.value_by_bedrooms(train)"
   ]
  },
  {
   "cell_type": "markdown",
   "id": "60f9f819",
   "metadata": {},
   "source": [
    "The `correlation_test` function from the `explore` module performs a Pearson's r statistical test for correlation:"
   ]
  },
  {
   "cell_type": "code",
   "execution_count": 12,
   "id": "2392cb9a",
   "metadata": {},
   "outputs": [
    {
     "name": "stdout",
     "output_type": "stream",
     "text": [
      "H0: There is no linear correlation between bedrooms and tax_value.\n",
      "H1: There is a linear correlation between bedrooms and tax_value.\n",
      "\n",
      "r =  0.19\n",
      "p =  0.0\n",
      "\n",
      "Reject H0\n"
     ]
    }
   ],
   "source": [
    "# conduct a statistical test for correlation\n",
    "explore.correlation_test(train.bedrooms, train.tax_value)"
   ]
  },
  {
   "cell_type": "markdown",
   "id": "1ce288fc",
   "metadata": {},
   "source": [
    "With a p-value of virtually 0, we reject the null hypothesis and proceed under the assumption that there is a linear relationship between the number of bedrooms in a home and tax_value, since this relationship in our sample is unlikely to be due to chance. "
   ]
  },
  {
   "cell_type": "markdown",
   "id": "10b9e970",
   "metadata": {},
   "source": [
    "### Further exploration: Is there a significant correlation between a home's square footage and it's value?\n",
    "\n",
    "The `sqft_vs_value` function from the `explore` module displays a scatter plot of the relationship between these two variables. \n",
    "\n",
    "(a random sample of n=1000 data is used to make the plot less dense))\n",
    "\n",
    "We can see that, while there does tend to be a wide disbursement of values at all points of the distribution, There is an overall trend of an increase in value as the square footage increases. "
   ]
  },
  {
   "cell_type": "code",
   "execution_count": 13,
   "id": "15b66b00",
   "metadata": {},
   "outputs": [
    {
     "data": {
      "image/png": "[encoded data removed]",
      "text/plain": [
       "<Figure size 360x360 with 1 Axes>"
      ]
     },
     "metadata": {
      "needs_background": "light"
     },
     "output_type": "display_data"
    }
   ],
   "source": [
    "# display a scatter plot with a best-fit line using seaborn\n",
    "explore.sqft_vs_value(train)"
   ]
  },
  {
   "cell_type": "markdown",
   "id": "50b15c60",
   "metadata": {},
   "source": [
    "The `correlation_test` function from the `explore` module performs a Pearson's r statistical test for correlation:"
   ]
  },
  {
   "cell_type": "code",
   "execution_count": 14,
   "id": "6e57a283",
   "metadata": {},
   "outputs": [
    {
     "name": "stdout",
     "output_type": "stream",
     "text": [
      "H0: There is no linear correlation between sqft and tax_value.\n",
      "H1: There is a linear correlation between sqft and tax_value.\n",
      "\n",
      "r =  0.45\n",
      "p =  0.0\n",
      "\n",
      "Reject H0\n"
     ]
    }
   ],
   "source": [
    "# conduct a statistical test for correlation\n",
    "explore.correlation_test(train.sqft, train.tax_value)"
   ]
  },
  {
   "cell_type": "markdown",
   "id": "7cab1b7a",
   "metadata": {},
   "source": [
    "With a p-value of virtually 0, we reject the null hypothesis and proceed under the assumption that there is a linear relationship between the square footage of the home and tax_value, since this relationship in our sample is unlikely to be due to chance. "
   ]
  },
  {
   "cell_type": "markdown",
   "id": "ea59b6c0",
   "metadata": {},
   "source": [
    "## Exploration: Summary\n",
    "\n",
    "In exploring the relationship between each of the features and our target, we found significant linear correlation between tax value and square footage, bedrooms, and bathrooms. We will use these features in our model moving forward. For simplicity in creating our initial models, we will omit all other variables for the time being. \n",
    "\n",
    "Since age of the property also appears to be correlated with value, this is a feature that we may include in subsequent iterations of modeling. "
   ]
  },
  {
   "cell_type": "markdown",
   "id": "a492fee3",
   "metadata": {},
   "source": [
    "# Modeling"
   ]
  },
  {
   "cell_type": "code",
   "execution_count": 15,
   "id": "c7a9e332",
   "metadata": {},
   "outputs": [],
   "source": [
    "# identify the name of the target feature\n",
    "target = 'tax_value'"
   ]
  },
  {
   "cell_type": "markdown",
   "id": "3f3dc800",
   "metadata": {},
   "source": [
    "#### Scaling the data\n",
    "\n",
    "Next, we will scale the values of each of our quantitative features so that they will be appropriately compared to each other within our models. In this case, we have used a Min-Max scaler, which will convert all values to within a range of 0 to 1. \n",
    "\n",
    "The `scale_zillow` function from the `prepare` module performs these scaling actions. "
   ]
  },
  {
   "cell_type": "code",
   "execution_count": 16,
   "id": "cc01d760",
   "metadata": {},
   "outputs": [],
   "source": [
    "# scale the data using sklearn MinMaxScaler()\n",
    "train, validate, test = prepare.scale_zillow(train, validate, test, target)"
   ]
  },
  {
   "cell_type": "markdown",
   "id": "54a930fa",
   "metadata": {},
   "source": [
    "#### Encoding the data\n",
    "\n",
    "We will also encode each of our categorical features into a numerical data type that is interpretable by ML algorithms. \n",
    "\n",
    "The `encode_zillow` function from the prepare module performs these encoding actions. "
   ]
  },
  {
   "cell_type": "code",
   "execution_count": 17,
   "id": "7924c184",
   "metadata": {},
   "outputs": [],
   "source": [
    "# encode the data using pandas' get_dummies\n",
    "train, validate, test = prepare.encode_zillow(train, validate, test, target)"
   ]
  },
  {
   "cell_type": "markdown",
   "id": "be5e04ec",
   "metadata": {},
   "source": [
    "#### Establishing Baseline Performance"
   ]
  },
  {
   "cell_type": "markdown",
   "id": "6b3e1b66",
   "metadata": {},
   "source": [
    "The code below sets up the necessary infrastructure for storing information about each of our models and their performance"
   ]
  },
  {
   "cell_type": "code",
   "execution_count": 18,
   "id": "6cda8245",
   "metadata": {},
   "outputs": [],
   "source": [
    "# set the model_number at 0, to be changing with each modeling iteration\n",
    "model_number = 0 \n",
    "# create empty dataframes for storing model results and metadata about each model\n",
    "model_info = pd.DataFrame()\n",
    "model_results = pd.DataFrame()"
   ]
  },
  {
   "cell_type": "markdown",
   "id": "fce7e2e4",
   "metadata": {},
   "source": [
    "Next we will establish our baseline predictions and evaluate their performance. \n",
    "\n",
    "To be able to determine whether our model gives useful predictions, we will compare it to a model that uses no features at all, and simply uses the mean value as a prediction for all observations. \n",
    "\n",
    "The `run_baseline` function from the `model` stores information about baseline predictions and their performance for later evaluation. "
   ]
  },
  {
   "cell_type": "code",
   "execution_count": 19,
   "id": "51279cfe",
   "metadata": {},
   "outputs": [],
   "source": [
    "# create baseline predictions and store information about their performance\n",
    "model_number, model_info, model_results = model.run_baseline(train, validate, target, model_number, model_info, model_results)"
   ]
  },
  {
   "cell_type": "markdown",
   "id": "dace0c12",
   "metadata": {},
   "source": [
    "#### Modeling: Ordinary Least Squares (OLS) Regression\n",
    "\n",
    "The `run_OLS` function from the `model` module creates various OLS Regression models and stores information about their performance for later evaluation, starting with our base set of features (bedrooms, bathrooms, sqft), then iteratively adding features one-by-one. "
   ]
  },
  {
   "cell_type": "code",
   "execution_count": 20,
   "id": "28e681fa",
   "metadata": {},
   "outputs": [],
   "source": [
    "# create OLS models and store information about their performance\n",
    "model_number, model_info, model_results = model.run_OLS(train, validate, target, model_number, model_info, model_results)"
   ]
  },
  {
   "cell_type": "markdown",
   "id": "48f81957",
   "metadata": {},
   "source": [
    "#### Modeling: LASSO + LARS\n",
    "\n",
    "The `run_LassoLars` function from the `model` module runs LASSO + LARS models, again varying the feature sets, and stores information about their performance for later evaluation.\n"
   ]
  },
  {
   "cell_type": "code",
   "execution_count": 21,
   "id": "2f9c96c7",
   "metadata": {},
   "outputs": [],
   "source": [
    "# create LASS+LARS models and store information about their performance\n",
    "model_number, model_info, model_results = model.run_LassoLars(train, validate, target, model_number, model_info, model_results)"
   ]
  },
  {
   "cell_type": "markdown",
   "id": "1268f0df",
   "metadata": {},
   "source": [
    "#### Modeling: Polynomial Regression"
   ]
  },
  {
   "cell_type": "code",
   "execution_count": 22,
   "id": "5ff904c6",
   "metadata": {},
   "outputs": [],
   "source": [
    "# create Polynomial Regression models and store information about their performance\n",
    "model_number, model_info, model_results = model.run_PolyReg(train, validate, target, model_number, model_info, model_results)"
   ]
  },
  {
   "cell_type": "markdown",
   "id": "13b0dabf",
   "metadata": {},
   "source": [
    "## Model Evaluation\n",
    "\n",
    "**Root Mean Squared Error (RMSE):** This is the metric we will use to evaluate the performance of our models. The RMSE tells us the standard deviation of the difference between our predictions and the actual values and therefore gives us an idea of how spread out the actual data points are around our regression line. Of the possible metrics for evaluating regression models, RMSE is easiest to interpret since it is expressed in units that are equivalent to our target variable (dollars in this case). \n",
    "\n",
    "Below, we pull information about the top 3 models and their performance, as well as our baseline performance. "
   ]
  },
  {
   "cell_type": "code",
   "execution_count": 23,
   "id": "97525b66",
   "metadata": {},
   "outputs": [
    {
     "data": {
      "text/html": [
       "<div>\n",
       "<style scoped>\n",
       "    .dataframe tbody tr th:only-of-type {\n",
       "        vertical-align: middle;\n",
       "    }\n",
       "\n",
       "    .dataframe tbody tr th {\n",
       "        vertical-align: top;\n",
       "    }\n",
       "\n",
       "    .dataframe thead tr th {\n",
       "        text-align: left;\n",
       "    }\n",
       "\n",
       "    .dataframe thead tr:last-of-type th {\n",
       "        text-align: right;\n",
       "    }\n",
       "</style>\n",
       "<table border=\"1\" class=\"dataframe\">\n",
       "  <thead>\n",
       "    <tr>\n",
       "      <th>metric_type</th>\n",
       "      <th colspan=\"2\" halign=\"left\">RMSE</th>\n",
       "    </tr>\n",
       "    <tr>\n",
       "      <th>sample_type</th>\n",
       "      <th>train</th>\n",
       "      <th>validate</th>\n",
       "    </tr>\n",
       "    <tr>\n",
       "      <th>model_number</th>\n",
       "      <th></th>\n",
       "      <th></th>\n",
       "    </tr>\n",
       "  </thead>\n",
       "  <tbody>\n",
       "    <tr>\n",
       "      <th>1</th>\n",
       "      <td>220750.487448</td>\n",
       "      <td>221608.074775</td>\n",
       "    </tr>\n",
       "    <tr>\n",
       "      <th>2</th>\n",
       "      <td>220749.085790</td>\n",
       "      <td>221633.115176</td>\n",
       "    </tr>\n",
       "    <tr>\n",
       "      <th>3</th>\n",
       "      <td>218563.293923</td>\n",
       "      <td>219900.134429</td>\n",
       "    </tr>\n",
       "    <tr>\n",
       "      <th>4</th>\n",
       "      <td>218405.106409</td>\n",
       "      <td>219705.875915</td>\n",
       "    </tr>\n",
       "    <tr>\n",
       "      <th>5</th>\n",
       "      <td>218405.106409</td>\n",
       "      <td>219705.875915</td>\n",
       "    </tr>\n",
       "    <tr>\n",
       "      <th>6</th>\n",
       "      <td>217317.771737</td>\n",
       "      <td>218563.220961</td>\n",
       "    </tr>\n",
       "    <tr>\n",
       "      <th>7</th>\n",
       "      <td>220750.750852</td>\n",
       "      <td>221608.736483</td>\n",
       "    </tr>\n",
       "    <tr>\n",
       "      <th>8</th>\n",
       "      <td>220749.361549</td>\n",
       "      <td>221631.278825</td>\n",
       "    </tr>\n",
       "    <tr>\n",
       "      <th>9</th>\n",
       "      <td>218563.960977</td>\n",
       "      <td>219905.316373</td>\n",
       "    </tr>\n",
       "    <tr>\n",
       "      <th>10</th>\n",
       "      <td>218405.835157</td>\n",
       "      <td>219715.899024</td>\n",
       "    </tr>\n",
       "    <tr>\n",
       "      <th>11</th>\n",
       "      <td>218405.835157</td>\n",
       "      <td>219715.899024</td>\n",
       "    </tr>\n",
       "    <tr>\n",
       "      <th>12</th>\n",
       "      <td>217318.569713</td>\n",
       "      <td>218572.979244</td>\n",
       "    </tr>\n",
       "    <tr>\n",
       "      <th>13</th>\n",
       "      <td>220174.486208</td>\n",
       "      <td>221121.315634</td>\n",
       "    </tr>\n",
       "    <tr>\n",
       "      <th>14</th>\n",
       "      <td>219964.539454</td>\n",
       "      <td>221083.130992</td>\n",
       "    </tr>\n",
       "    <tr>\n",
       "      <th>15</th>\n",
       "      <td>219756.486227</td>\n",
       "      <td>221039.914248</td>\n",
       "    </tr>\n",
       "    <tr>\n",
       "      <th>16</th>\n",
       "      <td>219532.331719</td>\n",
       "      <td>221049.146568</td>\n",
       "    </tr>\n",
       "    <tr>\n",
       "      <th>17</th>\n",
       "      <td>211678.781796</td>\n",
       "      <td>212476.207406</td>\n",
       "    </tr>\n",
       "    <tr>\n",
       "      <th>18</th>\n",
       "      <td>209231.150590</td>\n",
       "      <td>210814.882074</td>\n",
       "    </tr>\n",
       "    <tr>\n",
       "      <th>19</th>\n",
       "      <td>207241.487713</td>\n",
       "      <td>211453.168857</td>\n",
       "    </tr>\n",
       "    <tr>\n",
       "      <th>20</th>\n",
       "      <td>204154.037701</td>\n",
       "      <td>230688.502286</td>\n",
       "    </tr>\n",
       "    <tr>\n",
       "      <th>baseline</th>\n",
       "      <td>248815.692506</td>\n",
       "      <td>249077.903815</td>\n",
       "    </tr>\n",
       "  </tbody>\n",
       "</table>\n",
       "</div>"
      ],
      "text/plain": [
       "metric_type            RMSE               \n",
       "sample_type           train       validate\n",
       "model_number                              \n",
       "1             220750.487448  221608.074775\n",
       "2             220749.085790  221633.115176\n",
       "3             218563.293923  219900.134429\n",
       "4             218405.106409  219705.875915\n",
       "5             218405.106409  219705.875915\n",
       "6             217317.771737  218563.220961\n",
       "7             220750.750852  221608.736483\n",
       "8             220749.361549  221631.278825\n",
       "9             218563.960977  219905.316373\n",
       "10            218405.835157  219715.899024\n",
       "11            218405.835157  219715.899024\n",
       "12            217318.569713  218572.979244\n",
       "13            220174.486208  221121.315634\n",
       "14            219964.539454  221083.130992\n",
       "15            219756.486227  221039.914248\n",
       "16            219532.331719  221049.146568\n",
       "17            211678.781796  212476.207406\n",
       "18            209231.150590  210814.882074\n",
       "19            207241.487713  211453.168857\n",
       "20            204154.037701  230688.502286\n",
       "baseline      248815.692506  249077.903815"
      ]
     },
     "execution_count": 23,
     "metadata": {},
     "output_type": "execute_result"
    }
   ],
   "source": [
    "model.display_model_results(model_results).T"
   ]
  },
  {
   "cell_type": "code",
   "execution_count": 24,
   "id": "d2f24aef",
   "metadata": {},
   "outputs": [
    {
     "data": {
      "text/html": [
       "<div>\n",
       "<style scoped>\n",
       "    .dataframe tbody tr th:only-of-type {\n",
       "        vertical-align: middle;\n",
       "    }\n",
       "\n",
       "    .dataframe tbody tr th {\n",
       "        vertical-align: top;\n",
       "    }\n",
       "\n",
       "    .dataframe thead th {\n",
       "        text-align: right;\n",
       "    }\n",
       "</style>\n",
       "<table border=\"1\" class=\"dataframe\">\n",
       "  <thead>\n",
       "    <tr style=\"text-align: right;\">\n",
       "      <th></th>\n",
       "      <th>model_number</th>\n",
       "      <th>baseline</th>\n",
       "    </tr>\n",
       "    <tr>\n",
       "      <th>metric_type</th>\n",
       "      <th>sample_type</th>\n",
       "      <th></th>\n",
       "    </tr>\n",
       "  </thead>\n",
       "  <tbody>\n",
       "    <tr>\n",
       "      <th rowspan=\"2\" valign=\"top\">RMSE</th>\n",
       "      <th>train</th>\n",
       "      <td>248815.692506</td>\n",
       "    </tr>\n",
       "    <tr>\n",
       "      <th>validate</th>\n",
       "      <td>249077.903815</td>\n",
       "    </tr>\n",
       "  </tbody>\n",
       "</table>\n",
       "</div>"
      ],
      "text/plain": [
       "model_number                  baseline\n",
       "metric_type sample_type               \n",
       "RMSE        train        248815.692506\n",
       "            validate     249077.903815"
      ]
     },
     "execution_count": 24,
     "metadata": {},
     "output_type": "execute_result"
    }
   ],
   "source": [
    "model.display_model_results(model_results[model_results.model_number == 'baseline'])"
   ]
  },
  {
   "cell_type": "code",
   "execution_count": 25,
   "id": "84ec6786",
   "metadata": {},
   "outputs": [
    {
     "data": {
      "text/html": [
       "<div>\n",
       "<style scoped>\n",
       "    .dataframe tbody tr th:only-of-type {\n",
       "        vertical-align: middle;\n",
       "    }\n",
       "\n",
       "    .dataframe tbody tr th {\n",
       "        vertical-align: top;\n",
       "    }\n",
       "\n",
       "    .dataframe thead th {\n",
       "        text-align: right;\n",
       "    }\n",
       "</style>\n",
       "<table border=\"1\" class=\"dataframe\">\n",
       "  <thead>\n",
       "    <tr style=\"text-align: right;\">\n",
       "      <th></th>\n",
       "      <th>model_number</th>\n",
       "      <th>17</th>\n",
       "      <th>18</th>\n",
       "      <th>19</th>\n",
       "    </tr>\n",
       "    <tr>\n",
       "      <th>metric_type</th>\n",
       "      <th>sample_type</th>\n",
       "      <th></th>\n",
       "      <th></th>\n",
       "      <th></th>\n",
       "    </tr>\n",
       "  </thead>\n",
       "  <tbody>\n",
       "    <tr>\n",
       "      <th rowspan=\"2\" valign=\"top\">RMSE</th>\n",
       "      <th>train</th>\n",
       "      <td>211678.781796</td>\n",
       "      <td>209231.150590</td>\n",
       "      <td>207241.487713</td>\n",
       "    </tr>\n",
       "    <tr>\n",
       "      <th>validate</th>\n",
       "      <td>212476.207406</td>\n",
       "      <td>210814.882074</td>\n",
       "      <td>211453.168857</td>\n",
       "    </tr>\n",
       "  </tbody>\n",
       "</table>\n",
       "</div>"
      ],
      "text/plain": [
       "model_number                        17             18             19\n",
       "metric_type sample_type                                             \n",
       "RMSE        train        211678.781796  209231.150590  207241.487713\n",
       "            validate     212476.207406  210814.882074  211453.168857"
      ]
     },
     "execution_count": 25,
     "metadata": {},
     "output_type": "execute_result"
    }
   ],
   "source": [
    "# get and display performance metrics for the top 3 models\n",
    "best_model_results = model.get_best_model_results(model_results)\n",
    "model.display_model_results(best_model_results)"
   ]
  },
  {
   "cell_type": "code",
   "execution_count": 26,
   "id": "b73e076b",
   "metadata": {},
   "outputs": [
    {
     "data": {
      "text/html": [
       "<div>\n",
       "<style scoped>\n",
       "    .dataframe tbody tr th:only-of-type {\n",
       "        vertical-align: middle;\n",
       "    }\n",
       "\n",
       "    .dataframe tbody tr th {\n",
       "        vertical-align: top;\n",
       "    }\n",
       "\n",
       "    .dataframe thead th {\n",
       "        text-align: right;\n",
       "    }\n",
       "</style>\n",
       "<table border=\"1\" class=\"dataframe\">\n",
       "  <thead>\n",
       "    <tr style=\"text-align: right;\">\n",
       "      <th></th>\n",
       "      <th>model_number</th>\n",
       "      <th>model_type</th>\n",
       "      <th>features</th>\n",
       "      <th>alpha</th>\n",
       "      <th>degree</th>\n",
       "    </tr>\n",
       "  </thead>\n",
       "  <tbody>\n",
       "    <tr>\n",
       "      <th>17</th>\n",
       "      <td>17</td>\n",
       "      <td>Polynomial Regression</td>\n",
       "      <td>[scaled_bedrooms, scaled_bathrooms, scaled_sqf...</td>\n",
       "      <td>NaN</td>\n",
       "      <td>2.0</td>\n",
       "    </tr>\n",
       "    <tr>\n",
       "      <th>18</th>\n",
       "      <td>18</td>\n",
       "      <td>Polynomial Regression</td>\n",
       "      <td>[scaled_bedrooms, scaled_bathrooms, scaled_sqf...</td>\n",
       "      <td>NaN</td>\n",
       "      <td>3.0</td>\n",
       "    </tr>\n",
       "    <tr>\n",
       "      <th>19</th>\n",
       "      <td>19</td>\n",
       "      <td>Polynomial Regression</td>\n",
       "      <td>[scaled_bedrooms, scaled_bathrooms, scaled_sqf...</td>\n",
       "      <td>NaN</td>\n",
       "      <td>4.0</td>\n",
       "    </tr>\n",
       "  </tbody>\n",
       "</table>\n",
       "</div>"
      ],
      "text/plain": [
       "   model_number             model_type  \\\n",
       "17           17  Polynomial Regression   \n",
       "18           18  Polynomial Regression   \n",
       "19           19  Polynomial Regression   \n",
       "\n",
       "                                             features  alpha  degree  \n",
       "17  [scaled_bedrooms, scaled_bathrooms, scaled_sqf...    NaN     2.0  \n",
       "18  [scaled_bedrooms, scaled_bathrooms, scaled_sqf...    NaN     3.0  \n",
       "19  [scaled_bedrooms, scaled_bathrooms, scaled_sqf...    NaN     4.0  "
      ]
     },
     "execution_count": 26,
     "metadata": {},
     "output_type": "execute_result"
    }
   ],
   "source": [
    "# display information about the top 3 models\n",
    "model_info[(model_info.model_number == 17)|(model_info.model_number == 18)|(model_info.model_number == 19)]"
   ]
  },
  {
   "cell_type": "markdown",
   "id": "754e7521",
   "metadata": {},
   "source": [
    "#### Modeling - Final Test\n",
    "\n",
    "Now we will take the best model and evaluate its performance on our test sample. This will approximate the expected performance of this model for predicting prices of additional properties in real-time."
   ]
  },
  {
   "cell_type": "markdown",
   "id": "3daa2d74",
   "metadata": {},
   "source": [
    "**Model 18**, a Polynomial Regression to the 4th degree, is our highest performing model. \n",
    "\n",
    "It has an RMSE of 209,231 on the train sample and **210,815** on the validate sample. \n",
    "\n",
    "It uses the following features:\n",
    "\n",
    "- bedrooms\n",
    "- bathrooms\n",
    "- square feet\n",
    "- age, \n",
    "- garage area\n",
    "- lot size\n",
    "- number of pools\n",
    "- location by FIPS code"
   ]
  },
  {
   "cell_type": "markdown",
   "id": "e82fdcac",
   "metadata": {},
   "source": [
    "The `final_test_model18` function recreates the model and tests it's results."
   ]
  },
  {
   "cell_type": "code",
   "execution_count": 27,
   "id": "27cd617c",
   "metadata": {},
   "outputs": [
    {
     "name": "stdout",
     "output_type": "stream",
     "text": [
      "Model 3 RMSE:  $217,714.27\n"
     ]
    }
   ],
   "source": [
    "# calculate the RMSE for model 18\n",
    "model.final_test_model18(train, test, target)"
   ]
  },
  {
   "cell_type": "markdown",
   "id": "14c074eb",
   "metadata": {},
   "source": [
    "# How did we do?\n",
    "\n",
    "We expect that our model will typically predict a value that is within approximately \\$218,000 of the actual value of the property. This large of an error makes this not an exceptionally useful model in many cases. However, this is 31,000 better than our baseline error of approximately 249,000. This indicates that we have successfully identified drivers of home value, and gives us a jumping off point for further analysis and modeling. "
   ]
  },
  {
   "cell_type": "markdown",
   "id": "4174b7e3",
   "metadata": {},
   "source": [
    "### Key Findings:\n",
    "\n",
    "We determined that the following factors are the some of the most significant drivers of home value:\n",
    "- number of bathrooms\n",
    "- square footage (of principal residence)\n",
    "\n",
    "### Recommendations:\n",
    "\n",
    "Zillow should continue to collect data regarding the number of bedrooms and bathrooms in a home, as well as the home's area in square feet. This data has been conclusively shown to assist in predicting home values. If using this analysis to decide which homes are worth investing in, an investor should lean towards homes with higher values in these categories, all other considerations being equal. \n",
    "\n",
    "### Next Steps: \n",
    "\n",
    "**Deeper Analysis**: Given more time, I would do a deeper exploration of the other features included in our best performing models, including additional visualizations and statistical testing.\n",
    "\n",
    "**Feature Selection and Engineering**: Additionally, I would explore the other features available in the dataset, which could be done directly through visualization and statistical testing, or they could be identified through automated features selection techniques such as Recursive Feature Elimination. \n",
    "\n",
    "**Narrow the Focus**: Further, since real estate markets are based heavily on location, we should expect models to perform better which individually focus on a distinct geographic area. \n",
    "\n",
    "**Additional Data**: In addition to narrowing by geography, perhaps the most effective way to improve this model would be to gather additional information about the surrounding geography of each property, such as school quality, crime rates, etc.\n",
    "\n",
    "The goal would be to produce a model that has an error small enough to be useful to someone intending to sell or purchase a single family home. "
   ]
  }
 ],
 "metadata": {
  "kernelspec": {
   "display_name": "Python 3 (ipykernel)",
   "language": "python",
   "name": "python3"
  },
  "language_info": {
   "codemirror_mode": {
    "name": "ipython",
    "version": 3
   },
   "file_extension": ".py",
   "mimetype": "text/x-python",
   "name": "python",
   "nbconvert_exporter": "python",
   "pygments_lexer": "ipython3",
   "version": "3.9.7"
  }
 },
 "nbformat": 4,
 "nbformat_minor": 5
}
