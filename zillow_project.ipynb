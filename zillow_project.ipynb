{
 "cells": [
  {
   "cell_type": "code",
   "execution_count": 1,
   "id": "7e411b09",
   "metadata": {},
   "outputs": [],
   "source": [
    "import pandas as pd\n",
    "import numpy as np\n",
    "import matplotlib.pyplot as plt\n",
    "import seaborn as sns\n",
    "from math import sqrt\n",
    "\n",
    "import env\n",
    "import acquire\n",
    "import prepare\n",
    "import model\n",
    "\n",
    "import explore\n",
    "import evaluate\n",
    "\n",
    "import warnings\n",
    "warnings.filterwarnings(\"ignore\")\n",
    "\n",
    "import sklearn as sk\n",
    "from sklearn.preprocessing import MinMaxScaler\n",
    "from sklearn.linear_model import LinearRegression\n",
    "from sklearn.feature_selection import SelectKBest, f_regression, RFE\n",
    "from sklearn.metrics import mean_squared_error"
   ]
  },
  {
   "cell_type": "code",
   "execution_count": 15,
   "id": "808689d8",
   "metadata": {},
   "outputs": [
    {
     "name": "stdout",
     "output_type": "stream",
     "text": [
      "Reading from local CSV...\n"
     ]
    }
   ],
   "source": [
    "df = acquire.zillow_2017_data()"
   ]
  },
  {
   "cell_type": "code",
   "execution_count": 19,
   "id": "a99949b3",
   "metadata": {},
   "outputs": [],
   "source": [
    "df = prepare.prep_zillow_1(df)"
   ]
  },
  {
   "cell_type": "code",
   "execution_count": 27,
   "id": "2bdd0e63",
   "metadata": {},
   "outputs": [
    {
     "data": {
      "text/plain": [
       "count    44476.000000\n",
       "mean      1696.054231\n",
       "std        604.900917\n",
       "min        152.000000\n",
       "25%       1240.000000\n",
       "50%       1570.000000\n",
       "75%       2052.000000\n",
       "max       3566.000000\n",
       "Name: sqft, dtype: float64"
      ]
     },
     "execution_count": 27,
     "metadata": {},
     "output_type": "execute_result"
    }
   ],
   "source": [
    "df.sqft.describe()"
   ]
  },
  {
   "cell_type": "markdown",
   "id": "3c0fbede",
   "metadata": {},
   "source": [
    "For the first iteration of the model, we will only use bedrooms, bathrooms, and sqft to estimate tax value. We may add other features in later iterations. But we will drop other features here now:"
   ]
  },
  {
   "cell_type": "code",
   "execution_count": 4,
   "id": "b6e9ca0e",
   "metadata": {},
   "outputs": [],
   "source": [
    "df = df.drop(columns=['tax_amount', 'fips', 'age'])"
   ]
  },
  {
   "cell_type": "code",
   "execution_count": 5,
   "id": "c1e0055b",
   "metadata": {},
   "outputs": [
    {
     "data": {
      "text/html": [
       "<div>\n",
       "<style scoped>\n",
       "    .dataframe tbody tr th:only-of-type {\n",
       "        vertical-align: middle;\n",
       "    }\n",
       "\n",
       "    .dataframe tbody tr th {\n",
       "        vertical-align: top;\n",
       "    }\n",
       "\n",
       "    .dataframe thead th {\n",
       "        text-align: right;\n",
       "    }\n",
       "</style>\n",
       "<table border=\"1\" class=\"dataframe\">\n",
       "  <thead>\n",
       "    <tr style=\"text-align: right;\">\n",
       "      <th></th>\n",
       "      <th>bedrooms</th>\n",
       "      <th>bathrooms</th>\n",
       "      <th>sqft</th>\n",
       "      <th>tax_value</th>\n",
       "    </tr>\n",
       "  </thead>\n",
       "  <tbody>\n",
       "    <tr>\n",
       "      <th>0</th>\n",
       "      <td>4.0</td>\n",
       "      <td>3.5</td>\n",
       "      <td>3100.0</td>\n",
       "      <td>1023282.0</td>\n",
       "    </tr>\n",
       "    <tr>\n",
       "      <th>1</th>\n",
       "      <td>2.0</td>\n",
       "      <td>1.0</td>\n",
       "      <td>1465.0</td>\n",
       "      <td>464000.0</td>\n",
       "    </tr>\n",
       "    <tr>\n",
       "      <th>2</th>\n",
       "      <td>3.0</td>\n",
       "      <td>2.0</td>\n",
       "      <td>1243.0</td>\n",
       "      <td>564778.0</td>\n",
       "    </tr>\n",
       "  </tbody>\n",
       "</table>\n",
       "</div>"
      ],
      "text/plain": [
       "   bedrooms  bathrooms    sqft  tax_value\n",
       "0       4.0        3.5  3100.0  1023282.0\n",
       "1       2.0        1.0  1465.0   464000.0\n",
       "2       3.0        2.0  1243.0   564778.0"
      ]
     },
     "execution_count": 5,
     "metadata": {},
     "output_type": "execute_result"
    }
   ],
   "source": [
    "df.head(3)"
   ]
  },
  {
   "cell_type": "code",
   "execution_count": 6,
   "id": "216e2aec",
   "metadata": {},
   "outputs": [
    {
     "name": "stdout",
     "output_type": "stream",
     "text": [
      "train\t n = 24906\n",
      "test\t n = 8896\n",
      "validate n = 10674\n"
     ]
    }
   ],
   "source": [
    "train, test, validate = prepare.train_test_validate_split(df)"
   ]
  },
  {
   "cell_type": "code",
   "execution_count": 7,
   "id": "be3ca8ff",
   "metadata": {},
   "outputs": [],
   "source": [
    "target = 'tax_value'\n",
    "features = [col for col in df.columns if col != target]"
   ]
  },
  {
   "cell_type": "code",
   "execution_count": 8,
   "id": "eec28646",
   "metadata": {},
   "outputs": [
    {
     "data": {
      "text/html": [
       "<div>\n",
       "<style scoped>\n",
       "    .dataframe tbody tr th:only-of-type {\n",
       "        vertical-align: middle;\n",
       "    }\n",
       "\n",
       "    .dataframe tbody tr th {\n",
       "        vertical-align: top;\n",
       "    }\n",
       "\n",
       "    .dataframe thead th {\n",
       "        text-align: right;\n",
       "    }\n",
       "</style>\n",
       "<table border=\"1\" class=\"dataframe\">\n",
       "  <thead>\n",
       "    <tr style=\"text-align: right;\">\n",
       "      <th></th>\n",
       "      <th>bedrooms</th>\n",
       "      <th>bathrooms</th>\n",
       "      <th>sqft</th>\n",
       "      <th>tax_value</th>\n",
       "    </tr>\n",
       "  </thead>\n",
       "  <tbody>\n",
       "    <tr>\n",
       "      <th>26479</th>\n",
       "      <td>3.0</td>\n",
       "      <td>2.0</td>\n",
       "      <td>1431.0</td>\n",
       "      <td>564363.0</td>\n",
       "    </tr>\n",
       "    <tr>\n",
       "      <th>36845</th>\n",
       "      <td>3.0</td>\n",
       "      <td>2.0</td>\n",
       "      <td>1424.0</td>\n",
       "      <td>206362.0</td>\n",
       "    </tr>\n",
       "    <tr>\n",
       "      <th>3289</th>\n",
       "      <td>2.0</td>\n",
       "      <td>1.0</td>\n",
       "      <td>1300.0</td>\n",
       "      <td>93981.0</td>\n",
       "    </tr>\n",
       "  </tbody>\n",
       "</table>\n",
       "</div>"
      ],
      "text/plain": [
       "       bedrooms  bathrooms    sqft  tax_value\n",
       "26479       3.0        2.0  1431.0   564363.0\n",
       "36845       3.0        2.0  1424.0   206362.0\n",
       "3289        2.0        1.0  1300.0    93981.0"
      ]
     },
     "execution_count": 8,
     "metadata": {},
     "output_type": "execute_result"
    }
   ],
   "source": [
    "train.head(3)"
   ]
  },
  {
   "cell_type": "code",
   "execution_count": 9,
   "id": "3c036e09",
   "metadata": {},
   "outputs": [],
   "source": [
    "x_train = train[features]\n",
    "y_train = train[target]\n",
    "\n",
    "x_validate = validate[features]\n",
    "y_validate = validate[target]\n",
    "\n",
    "x_test = test[features]\n",
    "y_test = test[target]"
   ]
  },
  {
   "cell_type": "code",
   "execution_count": 10,
   "id": "dd795ce1",
   "metadata": {},
   "outputs": [],
   "source": [
    "# establish a baseline prediction\n",
    "train_results, baseline = model.determine_regression_baseline(train, target, return_results_df=True)"
   ]
  },
  {
   "cell_type": "code",
   "execution_count": 12,
   "id": "33662090",
   "metadata": {},
   "outputs": [],
   "source": [
    "# create the model object and fit to the training sample\n",
    "linreg = LinearRegression(normalize=True).fit(x_train, y_train)\n",
    "\n",
    "# make predictions for the training sample\n",
    "train_results['train_pred'] = linreg.predict(x_train)\n",
    "# evaluate: train rmse\n",
    "train_results['rmse_train'] = sqrt(mean_squared_error(y_train, train_results.train_pred))\n",
    "\n",
    "validate_results = pd.DataFrame(index=y_validate.index)\n",
    "# add baseline predictions\n",
    "validate_results['baseline'] = y_train.mean()\n",
    "# make predictions for the validate sample\n",
    "validate_results['validate_pred'] = linreg.predict(x_validate)\n",
    "#evaluate: validate rmse\n",
    "validate_results['rmse_validate'] = sqrt(mean_squared_error(y_validate, validate_results.validate_pred))\n"
   ]
  },
  {
   "cell_type": "code",
   "execution_count": 13,
   "id": "e2c9ddab",
   "metadata": {},
   "outputs": [
    {
     "data": {
      "text/html": [
       "<div>\n",
       "<style scoped>\n",
       "    .dataframe tbody tr th:only-of-type {\n",
       "        vertical-align: middle;\n",
       "    }\n",
       "\n",
       "    .dataframe tbody tr th {\n",
       "        vertical-align: top;\n",
       "    }\n",
       "\n",
       "    .dataframe thead th {\n",
       "        text-align: right;\n",
       "    }\n",
       "</style>\n",
       "<table border=\"1\" class=\"dataframe\">\n",
       "  <thead>\n",
       "    <tr style=\"text-align: right;\">\n",
       "      <th></th>\n",
       "      <th>actual</th>\n",
       "      <th>baseline_mean</th>\n",
       "      <th>RMSE_baseline</th>\n",
       "      <th>train_pred</th>\n",
       "      <th>rmse_train</th>\n",
       "    </tr>\n",
       "  </thead>\n",
       "  <tbody>\n",
       "    <tr>\n",
       "      <th>26479</th>\n",
       "      <td>564363.0</td>\n",
       "      <td>364268.411909</td>\n",
       "      <td>232700.731416</td>\n",
       "      <td>324582.245505</td>\n",
       "      <td>208334.804066</td>\n",
       "    </tr>\n",
       "  </tbody>\n",
       "</table>\n",
       "</div>"
      ],
      "text/plain": [
       "         actual  baseline_mean  RMSE_baseline     train_pred     rmse_train\n",
       "26479  564363.0  364268.411909  232700.731416  324582.245505  208334.804066"
      ]
     },
     "execution_count": 13,
     "metadata": {},
     "output_type": "execute_result"
    }
   ],
   "source": [
    "train_results.head(1)"
   ]
  },
  {
   "cell_type": "code",
   "execution_count": 14,
   "id": "100cfbc0",
   "metadata": {},
   "outputs": [
    {
     "data": {
      "text/html": [
       "<div>\n",
       "<style scoped>\n",
       "    .dataframe tbody tr th:only-of-type {\n",
       "        vertical-align: middle;\n",
       "    }\n",
       "\n",
       "    .dataframe tbody tr th {\n",
       "        vertical-align: top;\n",
       "    }\n",
       "\n",
       "    .dataframe thead th {\n",
       "        text-align: right;\n",
       "    }\n",
       "</style>\n",
       "<table border=\"1\" class=\"dataframe\">\n",
       "  <thead>\n",
       "    <tr style=\"text-align: right;\">\n",
       "      <th></th>\n",
       "      <th>baseline</th>\n",
       "      <th>validate_pred</th>\n",
       "      <th>rmse_validate</th>\n",
       "    </tr>\n",
       "  </thead>\n",
       "  <tbody>\n",
       "    <tr>\n",
       "      <th>3451</th>\n",
       "      <td>364268.411909</td>\n",
       "      <td>403529.770071</td>\n",
       "      <td>211104.144454</td>\n",
       "    </tr>\n",
       "  </tbody>\n",
       "</table>\n",
       "</div>"
      ],
      "text/plain": [
       "           baseline  validate_pred  rmse_validate\n",
       "3451  364268.411909  403529.770071  211104.144454"
      ]
     },
     "execution_count": 14,
     "metadata": {},
     "output_type": "execute_result"
    }
   ],
   "source": [
    "validate_results.head(1)"
   ]
  },
  {
   "cell_type": "code",
   "execution_count": null,
   "id": "ad14f37c",
   "metadata": {},
   "outputs": [],
   "source": []
  }
 ],
 "metadata": {
  "kernelspec": {
   "display_name": "Python 3 (ipykernel)",
   "language": "python",
   "name": "python3"
  },
  "language_info": {
   "codemirror_mode": {
    "name": "ipython",
    "version": 3
   },
   "file_extension": ".py",
   "mimetype": "text/x-python",
   "name": "python",
   "nbconvert_exporter": "python",
   "pygments_lexer": "ipython3",
   "version": "3.9.7"
  }
 },
 "nbformat": 4,
 "nbformat_minor": 5
}
