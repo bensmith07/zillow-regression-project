{
 "cells": [
  {
   "cell_type": "code",
   "execution_count": 27,
   "id": "754d9210",
   "metadata": {},
   "outputs": [],
   "source": [
    "import acquire\n",
    "import prepare\n",
    "import explore\n",
    "import model\n",
    "import pandas as pd\n",
    "\n",
    "import warnings\n",
    "warnings.filterwarnings('ignore')\n",
    "\n",
    "# not included in final notebook\n",
    "import os\n",
    "import env\n",
    "import numpy as np"
   ]
  },
  {
   "cell_type": "markdown",
   "id": "a337b41b",
   "metadata": {},
   "source": [
    "# Project Overview\n",
    "\n",
    "We will conduct an in depth analysis of Zillow property data from 2017. We will use exploratory analysis techniques to identify the key drivers of the assessed tax value for those properties, then use machine learning algorithms to create a model capable of predicting tax values based on features of the property. \n",
    "\n",
    "# Project Description\n",
    "\n",
    "Property values have skyrocketed over the last two years. With such rapid changes in home values, predicting those values has become even more challenging than before. Since Zillow's estimate of home value is one of the primary drivers of its website traffic, having a reliable estimate is paramount. Any improvement we can make on the previous model will help us out-estimate our competitors and keep us at the top as the most trusted name in real estate technology. \n",
    "\n",
    "This project will analyze property attributes in relation to their 2017 assessed tax value, develop a model for predicting that value based on those attributes, and leave with recommendations for how to improve future predictions. \n",
    "\n",
    "# Project Goals\n",
    "\n",
    "By improving upon the previous model, Zillow can enhance it's reputation for reliable property value estimates and better position itself in the real estate technology marketplace. \n"
   ]
  },
  {
   "cell_type": "markdown",
   "id": "e96ed593",
   "metadata": {},
   "source": [
    "# Acquisition"
   ]
  },
  {
   "cell_type": "markdown",
   "id": "b9d1485c",
   "metadata": {},
   "source": [
    "In this stage, we use a SQL query to access the Codeup MySQL database and join together all the relevant data using the following tables:\n",
    "\n",
    "- properties_2017\n",
    "- propertylandusetype\n",
    "- predictions_2017\n",
    "\n",
    "The data obtained includes all properties in the dataset which had a transaction in 2017.\n",
    "\n",
    "The `zillow_2017_data` function from the `acquire` module performs this acquisition."
   ]
  },
  {
   "cell_type": "code",
   "execution_count": 9,
   "id": "aadb6831",
   "metadata": {},
   "outputs": [],
   "source": [
    "def zillow_2017_data():\n",
    "    \n",
    "    filename = 'zillow_2.csv'\n",
    "    \n",
    "    if os.path.exists(filename):\n",
    "        print('Reading from local CSV...')\n",
    "        return pd.read_csv(filename)\n",
    "    \n",
    "    url = env.get_db_url('zillow')\n",
    "    sql = '''\n",
    "            SELECT bedroomcnt, \n",
    "                    bathroomcnt, \n",
    "                    calculatedfinishedsquarefeet, \n",
    "                    taxvaluedollarcnt, \n",
    "                    yearbuilt, \n",
    "                    fips,\n",
    "                    garagecarcnt,\n",
    "                    garagetotalsqft\n",
    "              FROM properties_2017\n",
    "                JOIN propertylandusetype USING (propertylandusetypeid)\n",
    "                JOIN predictions_2017 USING(parcelid)\n",
    "              WHERE propertylandusedesc IN (\"Single Family Residential\", \n",
    "                                            \"Inferred Single Family Residential\")\n",
    "                AND transactiondate LIKE \"2017%%\";\n",
    "            '''\n",
    "    \n",
    "    print('No local file exists\\nReading from SQL database...')\n",
    "    df = pd.read_sql(sql, url)\n",
    "\n",
    "    print('Saving to local CSV... ')\n",
    "    df.to_csv(filename, index=False)\n",
    "    \n",
    "    return df"
   ]
  },
  {
   "cell_type": "code",
   "execution_count": 37,
   "id": "52915c6e",
   "metadata": {},
   "outputs": [
    {
     "name": "stdout",
     "output_type": "stream",
     "text": [
      "Reading from local CSV...\n"
     ]
    }
   ],
   "source": [
    "# acquire the data from the Codeup cloud database\n",
    "df = zillow_2017_data()"
   ]
  },
  {
   "cell_type": "markdown",
   "id": "8351f657",
   "metadata": {},
   "source": [
    "# Preparation\n",
    "\n",
    "In this stage, we clean and prepare the data for further exploration and modeling and encapsulate the relevant code in the prepare modele. \n",
    "\n",
    "The `prep_zillow_1` function accomplishes the following:\n",
    "\n",
    "- checks for null values and removes all rows with null values if the number of null values is less than 5% the number of observations in the dataset. \n",
    "    - less than 5% of values is judged to not have a significant effect on a large dataset. Greater than 5% of values might require additional consideration. \n",
    "    - in this case we removed about 0.2% of the total observations due to null values\n",
    "- renames columns for readability\n",
    "- changes data types where appropriate (such as numerical codes into string values)\n",
    "- adds a feature 'age', which represents years since the home was constructed"
   ]
  },
  {
   "cell_type": "code",
   "execution_count": 38,
   "id": "4ab238d7",
   "metadata": {},
   "outputs": [
    {
     "data": {
      "text/html": [
       "<div>\n",
       "<style scoped>\n",
       "    .dataframe tbody tr th:only-of-type {\n",
       "        vertical-align: middle;\n",
       "    }\n",
       "\n",
       "    .dataframe tbody tr th {\n",
       "        vertical-align: top;\n",
       "    }\n",
       "\n",
       "    .dataframe thead th {\n",
       "        text-align: right;\n",
       "    }\n",
       "</style>\n",
       "<table border=\"1\" class=\"dataframe\">\n",
       "  <thead>\n",
       "    <tr style=\"text-align: right;\">\n",
       "      <th></th>\n",
       "      <th>bedroomcnt</th>\n",
       "      <th>bathroomcnt</th>\n",
       "      <th>calculatedfinishedsquarefeet</th>\n",
       "      <th>taxvaluedollarcnt</th>\n",
       "      <th>yearbuilt</th>\n",
       "      <th>fips</th>\n",
       "      <th>garagecarcnt</th>\n",
       "      <th>garagetotalsqft</th>\n",
       "    </tr>\n",
       "  </thead>\n",
       "  <tbody>\n",
       "    <tr>\n",
       "      <th>0</th>\n",
       "      <td>4.0</td>\n",
       "      <td>3.5</td>\n",
       "      <td>3100.0</td>\n",
       "      <td>1023282.0</td>\n",
       "      <td>1998.0</td>\n",
       "      <td>6059.0</td>\n",
       "      <td>2.0</td>\n",
       "      <td>633.0</td>\n",
       "    </tr>\n",
       "    <tr>\n",
       "      <th>1</th>\n",
       "      <td>2.0</td>\n",
       "      <td>1.0</td>\n",
       "      <td>1465.0</td>\n",
       "      <td>464000.0</td>\n",
       "      <td>1967.0</td>\n",
       "      <td>6111.0</td>\n",
       "      <td>1.0</td>\n",
       "      <td>0.0</td>\n",
       "    </tr>\n",
       "    <tr>\n",
       "      <th>2</th>\n",
       "      <td>3.0</td>\n",
       "      <td>2.0</td>\n",
       "      <td>1243.0</td>\n",
       "      <td>564778.0</td>\n",
       "      <td>1962.0</td>\n",
       "      <td>6059.0</td>\n",
       "      <td>2.0</td>\n",
       "      <td>440.0</td>\n",
       "    </tr>\n",
       "    <tr>\n",
       "      <th>3</th>\n",
       "      <td>4.0</td>\n",
       "      <td>3.0</td>\n",
       "      <td>2376.0</td>\n",
       "      <td>145143.0</td>\n",
       "      <td>1970.0</td>\n",
       "      <td>6037.0</td>\n",
       "      <td>NaN</td>\n",
       "      <td>NaN</td>\n",
       "    </tr>\n",
       "    <tr>\n",
       "      <th>4</th>\n",
       "      <td>4.0</td>\n",
       "      <td>3.0</td>\n",
       "      <td>2962.0</td>\n",
       "      <td>773303.0</td>\n",
       "      <td>1950.0</td>\n",
       "      <td>6037.0</td>\n",
       "      <td>NaN</td>\n",
       "      <td>NaN</td>\n",
       "    </tr>\n",
       "    <tr>\n",
       "      <th>...</th>\n",
       "      <td>...</td>\n",
       "      <td>...</td>\n",
       "      <td>...</td>\n",
       "      <td>...</td>\n",
       "      <td>...</td>\n",
       "      <td>...</td>\n",
       "      <td>...</td>\n",
       "      <td>...</td>\n",
       "    </tr>\n",
       "    <tr>\n",
       "      <th>52436</th>\n",
       "      <td>4.0</td>\n",
       "      <td>2.0</td>\n",
       "      <td>1633.0</td>\n",
       "      <td>346534.0</td>\n",
       "      <td>1962.0</td>\n",
       "      <td>6037.0</td>\n",
       "      <td>NaN</td>\n",
       "      <td>NaN</td>\n",
       "    </tr>\n",
       "    <tr>\n",
       "      <th>52437</th>\n",
       "      <td>2.0</td>\n",
       "      <td>2.0</td>\n",
       "      <td>1286.0</td>\n",
       "      <td>354621.0</td>\n",
       "      <td>1940.0</td>\n",
       "      <td>6037.0</td>\n",
       "      <td>NaN</td>\n",
       "      <td>NaN</td>\n",
       "    </tr>\n",
       "    <tr>\n",
       "      <th>52438</th>\n",
       "      <td>4.0</td>\n",
       "      <td>2.0</td>\n",
       "      <td>1612.0</td>\n",
       "      <td>67205.0</td>\n",
       "      <td>1964.0</td>\n",
       "      <td>6111.0</td>\n",
       "      <td>2.0</td>\n",
       "      <td>560.0</td>\n",
       "    </tr>\n",
       "    <tr>\n",
       "      <th>52439</th>\n",
       "      <td>3.0</td>\n",
       "      <td>1.0</td>\n",
       "      <td>1032.0</td>\n",
       "      <td>49546.0</td>\n",
       "      <td>1954.0</td>\n",
       "      <td>6037.0</td>\n",
       "      <td>NaN</td>\n",
       "      <td>NaN</td>\n",
       "    </tr>\n",
       "    <tr>\n",
       "      <th>52440</th>\n",
       "      <td>3.0</td>\n",
       "      <td>2.0</td>\n",
       "      <td>1762.0</td>\n",
       "      <td>522000.0</td>\n",
       "      <td>1955.0</td>\n",
       "      <td>6037.0</td>\n",
       "      <td>NaN</td>\n",
       "      <td>NaN</td>\n",
       "    </tr>\n",
       "  </tbody>\n",
       "</table>\n",
       "<p>52441 rows × 8 columns</p>\n",
       "</div>"
      ],
      "text/plain": [
       "       bedroomcnt  bathroomcnt  calculatedfinishedsquarefeet  \\\n",
       "0             4.0          3.5                        3100.0   \n",
       "1             2.0          1.0                        1465.0   \n",
       "2             3.0          2.0                        1243.0   \n",
       "3             4.0          3.0                        2376.0   \n",
       "4             4.0          3.0                        2962.0   \n",
       "...           ...          ...                           ...   \n",
       "52436         4.0          2.0                        1633.0   \n",
       "52437         2.0          2.0                        1286.0   \n",
       "52438         4.0          2.0                        1612.0   \n",
       "52439         3.0          1.0                        1032.0   \n",
       "52440         3.0          2.0                        1762.0   \n",
       "\n",
       "       taxvaluedollarcnt  yearbuilt    fips  garagecarcnt  garagetotalsqft  \n",
       "0              1023282.0     1998.0  6059.0           2.0            633.0  \n",
       "1               464000.0     1967.0  6111.0           1.0              0.0  \n",
       "2               564778.0     1962.0  6059.0           2.0            440.0  \n",
       "3               145143.0     1970.0  6037.0           NaN              NaN  \n",
       "4               773303.0     1950.0  6037.0           NaN              NaN  \n",
       "...                  ...        ...     ...           ...              ...  \n",
       "52436           346534.0     1962.0  6037.0           NaN              NaN  \n",
       "52437           354621.0     1940.0  6037.0           NaN              NaN  \n",
       "52438            67205.0     1964.0  6111.0           2.0            560.0  \n",
       "52439            49546.0     1954.0  6037.0           NaN              NaN  \n",
       "52440           522000.0     1955.0  6037.0           NaN              NaN  \n",
       "\n",
       "[52441 rows x 8 columns]"
      ]
     },
     "execution_count": 38,
     "metadata": {},
     "output_type": "execute_result"
    }
   ],
   "source": [
    "df"
   ]
  },
  {
   "cell_type": "code",
   "execution_count": 39,
   "id": "4c773e59",
   "metadata": {},
   "outputs": [],
   "source": [
    "# NEW:\n",
    "\n",
    "df['garagetotalsqft'] = np.where(df.garagetotalsqft.isna(), 0, df.garagetotalsqft)"
   ]
  },
  {
   "cell_type": "code",
   "execution_count": 40,
   "id": "b363a50a",
   "metadata": {},
   "outputs": [
    {
     "data": {
      "text/html": [
       "<div>\n",
       "<style scoped>\n",
       "    .dataframe tbody tr th:only-of-type {\n",
       "        vertical-align: middle;\n",
       "    }\n",
       "\n",
       "    .dataframe tbody tr th {\n",
       "        vertical-align: top;\n",
       "    }\n",
       "\n",
       "    .dataframe thead th {\n",
       "        text-align: right;\n",
       "    }\n",
       "</style>\n",
       "<table border=\"1\" class=\"dataframe\">\n",
       "  <thead>\n",
       "    <tr style=\"text-align: right;\">\n",
       "      <th></th>\n",
       "      <th>bedroomcnt</th>\n",
       "      <th>bathroomcnt</th>\n",
       "      <th>calculatedfinishedsquarefeet</th>\n",
       "      <th>taxvaluedollarcnt</th>\n",
       "      <th>yearbuilt</th>\n",
       "      <th>fips</th>\n",
       "      <th>garagecarcnt</th>\n",
       "      <th>garagetotalsqft</th>\n",
       "    </tr>\n",
       "  </thead>\n",
       "  <tbody>\n",
       "    <tr>\n",
       "      <th>0</th>\n",
       "      <td>4.0</td>\n",
       "      <td>3.5</td>\n",
       "      <td>3100.0</td>\n",
       "      <td>1023282.0</td>\n",
       "      <td>1998.0</td>\n",
       "      <td>6059.0</td>\n",
       "      <td>2.0</td>\n",
       "      <td>633.0</td>\n",
       "    </tr>\n",
       "    <tr>\n",
       "      <th>1</th>\n",
       "      <td>2.0</td>\n",
       "      <td>1.0</td>\n",
       "      <td>1465.0</td>\n",
       "      <td>464000.0</td>\n",
       "      <td>1967.0</td>\n",
       "      <td>6111.0</td>\n",
       "      <td>1.0</td>\n",
       "      <td>0.0</td>\n",
       "    </tr>\n",
       "    <tr>\n",
       "      <th>2</th>\n",
       "      <td>3.0</td>\n",
       "      <td>2.0</td>\n",
       "      <td>1243.0</td>\n",
       "      <td>564778.0</td>\n",
       "      <td>1962.0</td>\n",
       "      <td>6059.0</td>\n",
       "      <td>2.0</td>\n",
       "      <td>440.0</td>\n",
       "    </tr>\n",
       "    <tr>\n",
       "      <th>3</th>\n",
       "      <td>4.0</td>\n",
       "      <td>3.0</td>\n",
       "      <td>2376.0</td>\n",
       "      <td>145143.0</td>\n",
       "      <td>1970.0</td>\n",
       "      <td>6037.0</td>\n",
       "      <td>NaN</td>\n",
       "      <td>0.0</td>\n",
       "    </tr>\n",
       "    <tr>\n",
       "      <th>4</th>\n",
       "      <td>4.0</td>\n",
       "      <td>3.0</td>\n",
       "      <td>2962.0</td>\n",
       "      <td>773303.0</td>\n",
       "      <td>1950.0</td>\n",
       "      <td>6037.0</td>\n",
       "      <td>NaN</td>\n",
       "      <td>0.0</td>\n",
       "    </tr>\n",
       "    <tr>\n",
       "      <th>...</th>\n",
       "      <td>...</td>\n",
       "      <td>...</td>\n",
       "      <td>...</td>\n",
       "      <td>...</td>\n",
       "      <td>...</td>\n",
       "      <td>...</td>\n",
       "      <td>...</td>\n",
       "      <td>...</td>\n",
       "    </tr>\n",
       "    <tr>\n",
       "      <th>52436</th>\n",
       "      <td>4.0</td>\n",
       "      <td>2.0</td>\n",
       "      <td>1633.0</td>\n",
       "      <td>346534.0</td>\n",
       "      <td>1962.0</td>\n",
       "      <td>6037.0</td>\n",
       "      <td>NaN</td>\n",
       "      <td>0.0</td>\n",
       "    </tr>\n",
       "    <tr>\n",
       "      <th>52437</th>\n",
       "      <td>2.0</td>\n",
       "      <td>2.0</td>\n",
       "      <td>1286.0</td>\n",
       "      <td>354621.0</td>\n",
       "      <td>1940.0</td>\n",
       "      <td>6037.0</td>\n",
       "      <td>NaN</td>\n",
       "      <td>0.0</td>\n",
       "    </tr>\n",
       "    <tr>\n",
       "      <th>52438</th>\n",
       "      <td>4.0</td>\n",
       "      <td>2.0</td>\n",
       "      <td>1612.0</td>\n",
       "      <td>67205.0</td>\n",
       "      <td>1964.0</td>\n",
       "      <td>6111.0</td>\n",
       "      <td>2.0</td>\n",
       "      <td>560.0</td>\n",
       "    </tr>\n",
       "    <tr>\n",
       "      <th>52439</th>\n",
       "      <td>3.0</td>\n",
       "      <td>1.0</td>\n",
       "      <td>1032.0</td>\n",
       "      <td>49546.0</td>\n",
       "      <td>1954.0</td>\n",
       "      <td>6037.0</td>\n",
       "      <td>NaN</td>\n",
       "      <td>0.0</td>\n",
       "    </tr>\n",
       "    <tr>\n",
       "      <th>52440</th>\n",
       "      <td>3.0</td>\n",
       "      <td>2.0</td>\n",
       "      <td>1762.0</td>\n",
       "      <td>522000.0</td>\n",
       "      <td>1955.0</td>\n",
       "      <td>6037.0</td>\n",
       "      <td>NaN</td>\n",
       "      <td>0.0</td>\n",
       "    </tr>\n",
       "  </tbody>\n",
       "</table>\n",
       "<p>52441 rows × 8 columns</p>\n",
       "</div>"
      ],
      "text/plain": [
       "       bedroomcnt  bathroomcnt  calculatedfinishedsquarefeet  \\\n",
       "0             4.0          3.5                        3100.0   \n",
       "1             2.0          1.0                        1465.0   \n",
       "2             3.0          2.0                        1243.0   \n",
       "3             4.0          3.0                        2376.0   \n",
       "4             4.0          3.0                        2962.0   \n",
       "...           ...          ...                           ...   \n",
       "52436         4.0          2.0                        1633.0   \n",
       "52437         2.0          2.0                        1286.0   \n",
       "52438         4.0          2.0                        1612.0   \n",
       "52439         3.0          1.0                        1032.0   \n",
       "52440         3.0          2.0                        1762.0   \n",
       "\n",
       "       taxvaluedollarcnt  yearbuilt    fips  garagecarcnt  garagetotalsqft  \n",
       "0              1023282.0     1998.0  6059.0           2.0            633.0  \n",
       "1               464000.0     1967.0  6111.0           1.0              0.0  \n",
       "2               564778.0     1962.0  6059.0           2.0            440.0  \n",
       "3               145143.0     1970.0  6037.0           NaN              0.0  \n",
       "4               773303.0     1950.0  6037.0           NaN              0.0  \n",
       "...                  ...        ...     ...           ...              ...  \n",
       "52436           346534.0     1962.0  6037.0           NaN              0.0  \n",
       "52437           354621.0     1940.0  6037.0           NaN              0.0  \n",
       "52438            67205.0     1964.0  6111.0           2.0            560.0  \n",
       "52439            49546.0     1954.0  6037.0           NaN              0.0  \n",
       "52440           522000.0     1955.0  6037.0           NaN              0.0  \n",
       "\n",
       "[52441 rows x 8 columns]"
      ]
     },
     "execution_count": 40,
     "metadata": {},
     "output_type": "execute_result"
    }
   ],
   "source": [
    "df"
   ]
  },
  {
   "cell_type": "code",
   "execution_count": 11,
   "id": "862a96e4",
   "metadata": {},
   "outputs": [
    {
     "name": "stdout",
     "output_type": "stream",
     "text": [
      "Number of null values > 5% length of df. Evaluate further before dropping nulls.\n"
     ]
    },
    {
     "ename": "ValueError",
     "evalue": "cannot convert float NaN to integer",
     "output_type": "error",
     "traceback": [
      "\u001b[0;31m---------------------------------------------------------------------------\u001b[0m",
      "\u001b[0;31mValueError\u001b[0m                                Traceback (most recent call last)",
      "\u001b[0;32m/var/folders/zb/3lg9b5xn3831bhkh23bd5bs00000gn/T/ipykernel_17165/2315222834.py\u001b[0m in \u001b[0;36m<module>\u001b[0;34m\u001b[0m\n\u001b[1;32m      1\u001b[0m \u001b[0;31m# clean and prep the data using the steps outlined above\u001b[0m\u001b[0;34m\u001b[0m\u001b[0;34m\u001b[0m\u001b[0m\n\u001b[0;32m----> 2\u001b[0;31m \u001b[0mdf\u001b[0m \u001b[0;34m=\u001b[0m \u001b[0mprepare\u001b[0m\u001b[0;34m.\u001b[0m\u001b[0mprep_zillow_1\u001b[0m\u001b[0;34m(\u001b[0m\u001b[0mdf\u001b[0m\u001b[0;34m)\u001b[0m\u001b[0;34m\u001b[0m\u001b[0;34m\u001b[0m\u001b[0m\n\u001b[0m",
      "\u001b[0;32m~/codeup-data-science/zillow-regression-project/prepare.py\u001b[0m in \u001b[0;36mprep_zillow_1\u001b[0;34m(df)\u001b[0m\n\u001b[1;32m     36\u001b[0m     \u001b[0;31m# changing data types:\u001b[0m\u001b[0;34m\u001b[0m\u001b[0;34m\u001b[0m\u001b[0m\n\u001b[1;32m     37\u001b[0m     \u001b[0;31m# changing year from float to int\u001b[0m\u001b[0;34m\u001b[0m\u001b[0;34m\u001b[0m\u001b[0m\n\u001b[0;32m---> 38\u001b[0;31m     \u001b[0mdf\u001b[0m\u001b[0;34m[\u001b[0m\u001b[0;34m'year_built'\u001b[0m\u001b[0;34m]\u001b[0m \u001b[0;34m=\u001b[0m \u001b[0mdf\u001b[0m\u001b[0;34m.\u001b[0m\u001b[0myear_built\u001b[0m\u001b[0;34m.\u001b[0m\u001b[0mapply\u001b[0m\u001b[0;34m(\u001b[0m\u001b[0;32mlambda\u001b[0m \u001b[0myear\u001b[0m\u001b[0;34m:\u001b[0m \u001b[0mint\u001b[0m\u001b[0;34m(\u001b[0m\u001b[0myear\u001b[0m\u001b[0;34m)\u001b[0m\u001b[0;34m)\u001b[0m\u001b[0;34m\u001b[0m\u001b[0;34m\u001b[0m\u001b[0m\n\u001b[0m\u001b[1;32m     39\u001b[0m     \u001b[0;31m# adding a feature: age\u001b[0m\u001b[0;34m\u001b[0m\u001b[0;34m\u001b[0m\u001b[0m\n\u001b[1;32m     40\u001b[0m     \u001b[0mdf\u001b[0m\u001b[0;34m[\u001b[0m\u001b[0;34m'age'\u001b[0m\u001b[0;34m]\u001b[0m \u001b[0;34m=\u001b[0m \u001b[0;36m2017\u001b[0m \u001b[0;34m-\u001b[0m \u001b[0mdf\u001b[0m\u001b[0;34m.\u001b[0m\u001b[0myear_built\u001b[0m\u001b[0;34m\u001b[0m\u001b[0;34m\u001b[0m\u001b[0m\n",
      "\u001b[0;32m/opt/homebrew/anaconda3/lib/python3.9/site-packages/pandas/core/series.py\u001b[0m in \u001b[0;36mapply\u001b[0;34m(self, func, convert_dtype, args, **kwargs)\u001b[0m\n\u001b[1;32m   4355\u001b[0m         \u001b[0mdtype\u001b[0m\u001b[0;34m:\u001b[0m \u001b[0mfloat64\u001b[0m\u001b[0;34m\u001b[0m\u001b[0;34m\u001b[0m\u001b[0m\n\u001b[1;32m   4356\u001b[0m         \"\"\"\n\u001b[0;32m-> 4357\u001b[0;31m         \u001b[0;32mreturn\u001b[0m \u001b[0mSeriesApply\u001b[0m\u001b[0;34m(\u001b[0m\u001b[0mself\u001b[0m\u001b[0;34m,\u001b[0m \u001b[0mfunc\u001b[0m\u001b[0;34m,\u001b[0m \u001b[0mconvert_dtype\u001b[0m\u001b[0;34m,\u001b[0m \u001b[0margs\u001b[0m\u001b[0;34m,\u001b[0m \u001b[0mkwargs\u001b[0m\u001b[0;34m)\u001b[0m\u001b[0;34m.\u001b[0m\u001b[0mapply\u001b[0m\u001b[0;34m(\u001b[0m\u001b[0;34m)\u001b[0m\u001b[0;34m\u001b[0m\u001b[0;34m\u001b[0m\u001b[0m\n\u001b[0m\u001b[1;32m   4358\u001b[0m \u001b[0;34m\u001b[0m\u001b[0m\n\u001b[1;32m   4359\u001b[0m     def _reduce(\n",
      "\u001b[0;32m/opt/homebrew/anaconda3/lib/python3.9/site-packages/pandas/core/apply.py\u001b[0m in \u001b[0;36mapply\u001b[0;34m(self)\u001b[0m\n\u001b[1;32m   1041\u001b[0m             \u001b[0;32mreturn\u001b[0m \u001b[0mself\u001b[0m\u001b[0;34m.\u001b[0m\u001b[0mapply_str\u001b[0m\u001b[0;34m(\u001b[0m\u001b[0;34m)\u001b[0m\u001b[0;34m\u001b[0m\u001b[0;34m\u001b[0m\u001b[0m\n\u001b[1;32m   1042\u001b[0m \u001b[0;34m\u001b[0m\u001b[0m\n\u001b[0;32m-> 1043\u001b[0;31m         \u001b[0;32mreturn\u001b[0m \u001b[0mself\u001b[0m\u001b[0;34m.\u001b[0m\u001b[0mapply_standard\u001b[0m\u001b[0;34m(\u001b[0m\u001b[0;34m)\u001b[0m\u001b[0;34m\u001b[0m\u001b[0;34m\u001b[0m\u001b[0m\n\u001b[0m\u001b[1;32m   1044\u001b[0m \u001b[0;34m\u001b[0m\u001b[0m\n\u001b[1;32m   1045\u001b[0m     \u001b[0;32mdef\u001b[0m \u001b[0magg\u001b[0m\u001b[0;34m(\u001b[0m\u001b[0mself\u001b[0m\u001b[0;34m)\u001b[0m\u001b[0;34m:\u001b[0m\u001b[0;34m\u001b[0m\u001b[0;34m\u001b[0m\u001b[0m\n",
      "\u001b[0;32m/opt/homebrew/anaconda3/lib/python3.9/site-packages/pandas/core/apply.py\u001b[0m in \u001b[0;36mapply_standard\u001b[0;34m(self)\u001b[0m\n\u001b[1;32m   1096\u001b[0m                 \u001b[0;31m# List[Union[Callable[..., Any], str]]]]]\"; expected\u001b[0m\u001b[0;34m\u001b[0m\u001b[0;34m\u001b[0m\u001b[0m\n\u001b[1;32m   1097\u001b[0m                 \u001b[0;31m# \"Callable[[Any], Any]\"\u001b[0m\u001b[0;34m\u001b[0m\u001b[0;34m\u001b[0m\u001b[0m\n\u001b[0;32m-> 1098\u001b[0;31m                 mapped = lib.map_infer(\n\u001b[0m\u001b[1;32m   1099\u001b[0m                     \u001b[0mvalues\u001b[0m\u001b[0;34m,\u001b[0m\u001b[0;34m\u001b[0m\u001b[0;34m\u001b[0m\u001b[0m\n\u001b[1;32m   1100\u001b[0m                     \u001b[0mf\u001b[0m\u001b[0;34m,\u001b[0m  \u001b[0;31m# type: ignore[arg-type]\u001b[0m\u001b[0;34m\u001b[0m\u001b[0;34m\u001b[0m\u001b[0m\n",
      "\u001b[0;32m/opt/homebrew/anaconda3/lib/python3.9/site-packages/pandas/_libs/lib.pyx\u001b[0m in \u001b[0;36mpandas._libs.lib.map_infer\u001b[0;34m()\u001b[0m\n",
      "\u001b[0;32m~/codeup-data-science/zillow-regression-project/prepare.py\u001b[0m in \u001b[0;36m<lambda>\u001b[0;34m(year)\u001b[0m\n\u001b[1;32m     36\u001b[0m     \u001b[0;31m# changing data types:\u001b[0m\u001b[0;34m\u001b[0m\u001b[0;34m\u001b[0m\u001b[0m\n\u001b[1;32m     37\u001b[0m     \u001b[0;31m# changing year from float to int\u001b[0m\u001b[0;34m\u001b[0m\u001b[0;34m\u001b[0m\u001b[0m\n\u001b[0;32m---> 38\u001b[0;31m     \u001b[0mdf\u001b[0m\u001b[0;34m[\u001b[0m\u001b[0;34m'year_built'\u001b[0m\u001b[0;34m]\u001b[0m \u001b[0;34m=\u001b[0m \u001b[0mdf\u001b[0m\u001b[0;34m.\u001b[0m\u001b[0myear_built\u001b[0m\u001b[0;34m.\u001b[0m\u001b[0mapply\u001b[0m\u001b[0;34m(\u001b[0m\u001b[0;32mlambda\u001b[0m \u001b[0myear\u001b[0m\u001b[0;34m:\u001b[0m \u001b[0mint\u001b[0m\u001b[0;34m(\u001b[0m\u001b[0myear\u001b[0m\u001b[0;34m)\u001b[0m\u001b[0;34m)\u001b[0m\u001b[0;34m\u001b[0m\u001b[0;34m\u001b[0m\u001b[0m\n\u001b[0m\u001b[1;32m     39\u001b[0m     \u001b[0;31m# adding a feature: age\u001b[0m\u001b[0;34m\u001b[0m\u001b[0;34m\u001b[0m\u001b[0m\n\u001b[1;32m     40\u001b[0m     \u001b[0mdf\u001b[0m\u001b[0;34m[\u001b[0m\u001b[0;34m'age'\u001b[0m\u001b[0;34m]\u001b[0m \u001b[0;34m=\u001b[0m \u001b[0;36m2017\u001b[0m \u001b[0;34m-\u001b[0m \u001b[0mdf\u001b[0m\u001b[0;34m.\u001b[0m\u001b[0myear_built\u001b[0m\u001b[0;34m\u001b[0m\u001b[0;34m\u001b[0m\u001b[0m\n",
      "\u001b[0;31mValueError\u001b[0m: cannot convert float NaN to integer"
     ]
    }
   ],
   "source": [
    "# clean and prep the data using the steps outlined above\n",
    "df = prepare.prep_zillow_1(df)"
   ]
  },
  {
   "cell_type": "markdown",
   "id": "a94fc771",
   "metadata": {},
   "source": [
    "The `train_test_validate_split` function **Splits the data** into train, test, and validate samples"
   ]
  },
  {
   "cell_type": "code",
   "execution_count": 4,
   "id": "d96d6094",
   "metadata": {},
   "outputs": [
    {
     "name": "stdout",
     "output_type": "stream",
     "text": [
      "train\t n = 29298\n",
      "test\t n = 10464\n",
      "validate n = 12557\n"
     ]
    }
   ],
   "source": [
    "# split the data into three samples and print the sample sizes\n",
    "train, test, validate = prepare.train_test_validate_split(df)"
   ]
  },
  {
   "cell_type": "markdown",
   "id": "be63b493",
   "metadata": {},
   "source": [
    "**Removing Outliers**\n",
    "\n",
    "During initial exploration, it was discovered that extreme outliers exist in the categories of tax_value, bedrooms, bathrooms, sqft, and age. \n",
    "\n",
    "We judge that out model will generalize more effectively if it is focused on the typical (i.e. median) homes. Further, we expect that markets for luxury and historical homes (likely represented by these outliers) are considerably different than the general home market, and that an altogether separate model would be more useful for predicting the values of such homes. \n",
    "\n",
    "We will therefore drop outliers from this dataset. \n",
    "\n",
    "The `remove` outliers function calculates a range defining outliers based on the training sample, then removes values outside this range in all samples."
   ]
  },
  {
   "cell_type": "code",
   "execution_count": 5,
   "id": "52a79fc6",
   "metadata": {},
   "outputs": [
    {
     "name": "stdout",
     "output_type": "stream",
     "text": [
      "train\t n = 26088\n",
      "test\t n = 9241\n",
      "validate n = 11144\n"
     ]
    }
   ],
   "source": [
    "# remove outliers based on a range calculated from the training sample\n",
    "train, validate, test = prepare.remove_outliers(train, validate, test, 1.5, ['bedrooms', 'bathrooms',\n",
    "                                                                             'sqft', 'age', 'tax_value'])"
   ]
  },
  {
   "cell_type": "markdown",
   "id": "a492fee3",
   "metadata": {},
   "source": [
    "# Modeling"
   ]
  },
  {
   "cell_type": "code",
   "execution_count": 13,
   "id": "c7a9e332",
   "metadata": {},
   "outputs": [],
   "source": [
    "# identify the name of the target feature\n",
    "target = 'tax_value'"
   ]
  },
  {
   "cell_type": "markdown",
   "id": "3f3dc800",
   "metadata": {},
   "source": [
    "#### Scaling the data\n",
    "\n",
    "Next, we will scale the values of each of our quantitative features so that they will be appropriately compared to each other within our models. In this case, we have used a Min-Max scaler, which will convert all values to within a range of 0 to 1. \n",
    "\n",
    "The `scale_zillow` function from the `prepare` module performs these scaling actions. "
   ]
  },
  {
   "cell_type": "code",
   "execution_count": 14,
   "id": "cc01d760",
   "metadata": {},
   "outputs": [],
   "source": [
    "# scale the data using sklearn MinMaxScaler()\n",
    "train, validate, test = prepare.scale_zillow(train, validate, test, target)"
   ]
  },
  {
   "cell_type": "markdown",
   "id": "54a930fa",
   "metadata": {},
   "source": [
    "#### Encoding the data\n",
    "\n",
    "We will also encode each of our categorical features into a numerical data type that is interpretable by ML algorithms. \n",
    "\n",
    "The `encode_zillow` function from the prepare module performs these encoding actions. "
   ]
  },
  {
   "cell_type": "code",
   "execution_count": 16,
   "id": "7924c184",
   "metadata": {},
   "outputs": [],
   "source": [
    "# encode the data using pandas' get_dummies\n",
    "train, validate, test = prepare.encode_zillow(train, validate, test, target)"
   ]
  },
  {
   "cell_type": "markdown",
   "id": "be5e04ec",
   "metadata": {},
   "source": [
    "#### Establishing Baseline Performance"
   ]
  },
  {
   "cell_type": "markdown",
   "id": "6b3e1b66",
   "metadata": {},
   "source": [
    "The code below sets up the necessary infrastructure for storing information about each of our models and their performance"
   ]
  },
  {
   "cell_type": "code",
   "execution_count": 17,
   "id": "6cda8245",
   "metadata": {},
   "outputs": [],
   "source": [
    "# set the model_number at 0, to be changing with each modeling iteration\n",
    "model_number = 0 \n",
    "# create empty dataframes for storing model results and metadata about each model\n",
    "model_info = pd.DataFrame()\n",
    "model_results = pd.DataFrame()"
   ]
  },
  {
   "cell_type": "markdown",
   "id": "fce7e2e4",
   "metadata": {},
   "source": [
    "Next we will establish our baseline predictions and evaluate their performance. \n",
    "\n",
    "To be able to determine whether our model gives useful predictions, we will compare it to a model that uses no features at all, and simply uses the mean value as a prediction for all observations. \n",
    "\n",
    "The `run_baseline` function from the `model` stores information about baseline predictions and their performance for later evaluation. "
   ]
  },
  {
   "cell_type": "code",
   "execution_count": 18,
   "id": "51279cfe",
   "metadata": {},
   "outputs": [],
   "source": [
    "# create baseline predictions and store information about their performance\n",
    "model_number, model_info, model_results = model.run_baseline(train, validate, target, model_number, model_info, model_results)"
   ]
  },
  {
   "cell_type": "markdown",
   "id": "dace0c12",
   "metadata": {},
   "source": [
    "#### Modeling: Ordinary Least Squares (OLS) Regression"
   ]
  },
  {
   "cell_type": "code",
   "execution_count": 19,
   "id": "28e681fa",
   "metadata": {},
   "outputs": [],
   "source": [
    "# create OLS models and store information about their performance\n",
    "model_number, model_info, model_results = model.run_OLS(train, validate, target, model_number, model_info, model_results)"
   ]
  },
  {
   "cell_type": "code",
   "execution_count": null,
   "id": "dd39d0ea",
   "metadata": {},
   "outputs": [],
   "source": []
  },
  {
   "cell_type": "markdown",
   "id": "13b0dabf",
   "metadata": {},
   "source": [
    "## Model Evaluation\n",
    "\n",
    "**Root Mean Squared Error (RMSE):** This is the metric we will use to evaluate the performance of our models. The RMSE tells us the standard deviation of the difference between our predictions and the actual values and therefore gives us an idea of how spread out the actual data points are around our regression line. Of the possible metrics for evaluating regression models, RMSE is easiest to interpret since it is expressed in units that are equivalent to our target variable (dollars in this case). \n",
    "\n",
    "Below, the model_info dataframe provides information about each model that we tested and the features that were included, and the model_results dataframe displays the RMSE for that model on each of the train and validate samples. "
   ]
  },
  {
   "cell_type": "code",
   "execution_count": 20,
   "id": "c93ba217",
   "metadata": {},
   "outputs": [
    {
     "data": {
      "text/html": [
       "<div>\n",
       "<style scoped>\n",
       "    .dataframe tbody tr th:only-of-type {\n",
       "        vertical-align: middle;\n",
       "    }\n",
       "\n",
       "    .dataframe tbody tr th {\n",
       "        vertical-align: top;\n",
       "    }\n",
       "\n",
       "    .dataframe thead th {\n",
       "        text-align: right;\n",
       "    }\n",
       "</style>\n",
       "<table border=\"1\" class=\"dataframe\">\n",
       "  <thead>\n",
       "    <tr style=\"text-align: right;\">\n",
       "      <th></th>\n",
       "      <th>model_number</th>\n",
       "      <th>model_type</th>\n",
       "      <th>features</th>\n",
       "    </tr>\n",
       "  </thead>\n",
       "  <tbody>\n",
       "    <tr>\n",
       "      <th>0</th>\n",
       "      <td>baseline</td>\n",
       "      <td>baseline</td>\n",
       "      <td>NaN</td>\n",
       "    </tr>\n",
       "    <tr>\n",
       "      <th>1</th>\n",
       "      <td>1</td>\n",
       "      <td>OLS linear regression</td>\n",
       "      <td>[scaled_bedrooms, scaled_bathrooms, scaled_sqft]</td>\n",
       "    </tr>\n",
       "    <tr>\n",
       "      <th>2</th>\n",
       "      <td>2</td>\n",
       "      <td>OLS linear regression</td>\n",
       "      <td>[scaled_bedrooms, scaled_bathrooms, scaled_sqf...</td>\n",
       "    </tr>\n",
       "    <tr>\n",
       "      <th>3</th>\n",
       "      <td>3</td>\n",
       "      <td>OLS linear regression</td>\n",
       "      <td>[scaled_bedrooms, scaled_bathrooms, scaled_sqf...</td>\n",
       "    </tr>\n",
       "  </tbody>\n",
       "</table>\n",
       "</div>"
      ],
      "text/plain": [
       "  model_number             model_type  \\\n",
       "0     baseline               baseline   \n",
       "1            1  OLS linear regression   \n",
       "2            2  OLS linear regression   \n",
       "3            3  OLS linear regression   \n",
       "\n",
       "                                            features  \n",
       "0                                                NaN  \n",
       "1   [scaled_bedrooms, scaled_bathrooms, scaled_sqft]  \n",
       "2  [scaled_bedrooms, scaled_bathrooms, scaled_sqf...  \n",
       "3  [scaled_bedrooms, scaled_bathrooms, scaled_sqf...  "
      ]
     },
     "execution_count": 20,
     "metadata": {},
     "output_type": "execute_result"
    }
   ],
   "source": [
    "# display the model_info dataframe\n",
    "model_info"
   ]
  },
  {
   "cell_type": "code",
   "execution_count": 21,
   "id": "e49e88e1",
   "metadata": {},
   "outputs": [
    {
     "data": {
      "text/html": [
       "<div>\n",
       "<style scoped>\n",
       "    .dataframe tbody tr th:only-of-type {\n",
       "        vertical-align: middle;\n",
       "    }\n",
       "\n",
       "    .dataframe tbody tr th {\n",
       "        vertical-align: top;\n",
       "    }\n",
       "\n",
       "    .dataframe thead th {\n",
       "        text-align: right;\n",
       "    }\n",
       "</style>\n",
       "<table border=\"1\" class=\"dataframe\">\n",
       "  <thead>\n",
       "    <tr style=\"text-align: right;\">\n",
       "      <th></th>\n",
       "      <th>model_number</th>\n",
       "      <th>sample_type</th>\n",
       "      <th>metric_type</th>\n",
       "      <th>score</th>\n",
       "    </tr>\n",
       "  </thead>\n",
       "  <tbody>\n",
       "    <tr>\n",
       "      <th>0</th>\n",
       "      <td>baseline</td>\n",
       "      <td>train</td>\n",
       "      <td>RMSE</td>\n",
       "      <td>261710.496279</td>\n",
       "    </tr>\n",
       "    <tr>\n",
       "      <th>1</th>\n",
       "      <td>baseline</td>\n",
       "      <td>validate</td>\n",
       "      <td>RMSE</td>\n",
       "      <td>263821.689117</td>\n",
       "    </tr>\n",
       "    <tr>\n",
       "      <th>2</th>\n",
       "      <td>1</td>\n",
       "      <td>train</td>\n",
       "      <td>RMSE</td>\n",
       "      <td>228121.330688</td>\n",
       "    </tr>\n",
       "    <tr>\n",
       "      <th>3</th>\n",
       "      <td>1</td>\n",
       "      <td>validate</td>\n",
       "      <td>RMSE</td>\n",
       "      <td>227747.758899</td>\n",
       "    </tr>\n",
       "    <tr>\n",
       "      <th>4</th>\n",
       "      <td>2</td>\n",
       "      <td>train</td>\n",
       "      <td>RMSE</td>\n",
       "      <td>228099.897239</td>\n",
       "    </tr>\n",
       "    <tr>\n",
       "      <th>5</th>\n",
       "      <td>2</td>\n",
       "      <td>validate</td>\n",
       "      <td>RMSE</td>\n",
       "      <td>227734.292830</td>\n",
       "    </tr>\n",
       "    <tr>\n",
       "      <th>6</th>\n",
       "      <td>3</td>\n",
       "      <td>train</td>\n",
       "      <td>RMSE</td>\n",
       "      <td>226451.132843</td>\n",
       "    </tr>\n",
       "    <tr>\n",
       "      <th>7</th>\n",
       "      <td>3</td>\n",
       "      <td>validate</td>\n",
       "      <td>RMSE</td>\n",
       "      <td>225539.107024</td>\n",
       "    </tr>\n",
       "  </tbody>\n",
       "</table>\n",
       "</div>"
      ],
      "text/plain": [
       "  model_number sample_type metric_type          score\n",
       "0     baseline       train        RMSE  261710.496279\n",
       "1     baseline    validate        RMSE  263821.689117\n",
       "2            1       train        RMSE  228121.330688\n",
       "3            1    validate        RMSE  227747.758899\n",
       "4            2       train        RMSE  228099.897239\n",
       "5            2    validate        RMSE  227734.292830\n",
       "6            3       train        RMSE  226451.132843\n",
       "7            3    validate        RMSE  225539.107024"
      ]
     },
     "execution_count": 21,
     "metadata": {},
     "output_type": "execute_result"
    }
   ],
   "source": [
    "# display the model_results dataframe\n",
    "model_results"
   ]
  },
  {
   "cell_type": "markdown",
   "id": "f72b722f",
   "metadata": {},
   "source": [
    "Features used in Model 3:"
   ]
  },
  {
   "cell_type": "code",
   "execution_count": 22,
   "id": "7cbeb401",
   "metadata": {},
   "outputs": [
    {
     "name": "stdout",
     "output_type": "stream",
     "text": [
      "scaled_bedrooms\n",
      "scaled_bathrooms\n",
      "scaled_sqft\n",
      "scaled_age\n",
      "enc_fips_06059\n",
      "enc_fips_06111\n"
     ]
    }
   ],
   "source": [
    "# show the features used in Model 3\n",
    "for feature in model_info[model_info.model_number == 3].features.values[0]:\n",
    "    print(feature)"
   ]
  },
  {
   "cell_type": "markdown",
   "id": "3daa2d74",
   "metadata": {},
   "source": [
    "Model 3 is our highest performing model. It has an RMSE of 600,181 on the train sample and 51,358 on the validate sample. It uses number of bathrooms, number of bedrooms, square footage, age, and location by fips code as features. "
   ]
  },
  {
   "cell_type": "markdown",
   "id": "754e7521",
   "metadata": {},
   "source": [
    "#### Modeling - Final Test\n",
    "\n",
    "Now we will evaluate this model's performance on our test sample. This will approximate the expected performance of this model for predicting prices of additional properties in real-time."
   ]
  },
  {
   "cell_type": "markdown",
   "id": "e82fdcac",
   "metadata": {},
   "source": [
    "The `final_test_model3` function peforms this test and displays the results."
   ]
  },
  {
   "cell_type": "code",
   "execution_count": 23,
   "id": "27cd617c",
   "metadata": {},
   "outputs": [
    {
     "name": "stdout",
     "output_type": "stream",
     "text": [
      "Model 3 RMSE:  $226,607.30\n"
     ]
    }
   ],
   "source": [
    "# calculate the RMSE for model 3\n",
    "model.final_test_model3(train, test, target)"
   ]
  },
  {
   "cell_type": "markdown",
   "id": "14c074eb",
   "metadata": {},
   "source": [
    "# How did we do?\n",
    "\n",
    "We expect that our model will typically predict a value that is within approximately \\$549,000 of the actual value of the property. This large of an error makes this not an exceptionally useful model. However, this is 175,000 better than our baseline error of approximately 724,000. This indicates that we have successfully identified drivers of home value, and gives us a jumping off point for further analysis and modeling. "
   ]
  },
  {
   "cell_type": "markdown",
   "id": "4174b7e3",
   "metadata": {},
   "source": [
    "### Key Findings:\n",
    "\n",
    "We determined that the following factors are significant drivers of home value:\n",
    "- number of bedrooms\n",
    "- number of bathrooms\n",
    "- square footage (finished area)\n",
    "\n",
    "### Recommendations:\n",
    "\n",
    "Zillow should continue to collect data regarding the number of bedrooms and bathrooms in a home, as well as the home's area in square feet. This data has been conclusively shown to assist in predicting home values. If using this analysis to decide which homes are worth investing in, an investor should lean towards homes with higher values in these categories, all other considerations being equal. \n",
    "\n",
    "### Next Steps: \n",
    "\n",
    "Given more time, I would examine additional features as drivers of home value. Some factors that I would expect to have significant influence include:\n",
    "\n",
    "- whether or not a property has a pool or spa\n",
    "- whether or not there is a garage on the property\n",
    "- the size of the garage\n",
    "- more granular information about location, such as zip code or neighborhood\n",
    "    \n",
    "These features could be explored directly, through visualization and statistical testing, or they could be identified through automated features selection techniques such as Recursive Feature Elimination. \n",
    "\n",
    "Additionally, since real estate markets are based heavily on location, I might expect models to perform better which individually focus on a distinct geographic area. \n",
    "\n",
    "The goal would be to produce a model that has an error small enough to be useful to someone intending to sell or purchase a single family home. "
   ]
  },
  {
   "cell_type": "code",
   "execution_count": 24,
   "id": "6f353e80",
   "metadata": {},
   "outputs": [
    {
     "data": {
      "text/html": [
       "<div>\n",
       "<style scoped>\n",
       "    .dataframe tbody tr th:only-of-type {\n",
       "        vertical-align: middle;\n",
       "    }\n",
       "\n",
       "    .dataframe tbody tr th {\n",
       "        vertical-align: top;\n",
       "    }\n",
       "\n",
       "    .dataframe thead th {\n",
       "        text-align: right;\n",
       "    }\n",
       "</style>\n",
       "<table border=\"1\" class=\"dataframe\">\n",
       "  <thead>\n",
       "    <tr style=\"text-align: right;\">\n",
       "      <th></th>\n",
       "      <th>bedrooms</th>\n",
       "      <th>bathrooms</th>\n",
       "      <th>sqft</th>\n",
       "      <th>tax_value</th>\n",
       "      <th>fips</th>\n",
       "      <th>age</th>\n",
       "      <th>scaled_bedrooms</th>\n",
       "      <th>scaled_bathrooms</th>\n",
       "      <th>scaled_sqft</th>\n",
       "      <th>scaled_age</th>\n",
       "      <th>enc_fips_06059</th>\n",
       "      <th>enc_fips_06111</th>\n",
       "    </tr>\n",
       "  </thead>\n",
       "  <tbody>\n",
       "    <tr>\n",
       "      <th>13026</th>\n",
       "      <td>2.0</td>\n",
       "      <td>1.5</td>\n",
       "      <td>1012.0</td>\n",
       "      <td>216351.0</td>\n",
       "      <td>06059</td>\n",
       "      <td>45</td>\n",
       "      <td>0.000000</td>\n",
       "      <td>0.142857</td>\n",
       "      <td>0.232370</td>\n",
       "      <td>0.403670</td>\n",
       "      <td>1</td>\n",
       "      <td>0</td>\n",
       "    </tr>\n",
       "    <tr>\n",
       "      <th>27044</th>\n",
       "      <td>4.0</td>\n",
       "      <td>2.0</td>\n",
       "      <td>1352.0</td>\n",
       "      <td>98346.0</td>\n",
       "      <td>06037</td>\n",
       "      <td>62</td>\n",
       "      <td>0.666667</td>\n",
       "      <td>0.285714</td>\n",
       "      <td>0.324237</td>\n",
       "      <td>0.559633</td>\n",
       "      <td>0</td>\n",
       "      <td>0</td>\n",
       "    </tr>\n",
       "    <tr>\n",
       "      <th>30173</th>\n",
       "      <td>2.0</td>\n",
       "      <td>1.0</td>\n",
       "      <td>1401.0</td>\n",
       "      <td>268861.0</td>\n",
       "      <td>06037</td>\n",
       "      <td>77</td>\n",
       "      <td>0.000000</td>\n",
       "      <td>0.000000</td>\n",
       "      <td>0.337476</td>\n",
       "      <td>0.697248</td>\n",
       "      <td>0</td>\n",
       "      <td>0</td>\n",
       "    </tr>\n",
       "    <tr>\n",
       "      <th>3559</th>\n",
       "      <td>3.0</td>\n",
       "      <td>1.0</td>\n",
       "      <td>1225.0</td>\n",
       "      <td>432894.0</td>\n",
       "      <td>06037</td>\n",
       "      <td>94</td>\n",
       "      <td>0.333333</td>\n",
       "      <td>0.000000</td>\n",
       "      <td>0.289922</td>\n",
       "      <td>0.853211</td>\n",
       "      <td>0</td>\n",
       "      <td>0</td>\n",
       "    </tr>\n",
       "    <tr>\n",
       "      <th>33501</th>\n",
       "      <td>5.0</td>\n",
       "      <td>2.5</td>\n",
       "      <td>2424.0</td>\n",
       "      <td>676000.0</td>\n",
       "      <td>06111</td>\n",
       "      <td>49</td>\n",
       "      <td>1.000000</td>\n",
       "      <td>0.428571</td>\n",
       "      <td>0.613888</td>\n",
       "      <td>0.440367</td>\n",
       "      <td>0</td>\n",
       "      <td>1</td>\n",
       "    </tr>\n",
       "  </tbody>\n",
       "</table>\n",
       "</div>"
      ],
      "text/plain": [
       "       bedrooms  bathrooms    sqft  tax_value   fips  age  scaled_bedrooms  \\\n",
       "13026       2.0        1.5  1012.0   216351.0  06059   45         0.000000   \n",
       "27044       4.0        2.0  1352.0    98346.0  06037   62         0.666667   \n",
       "30173       2.0        1.0  1401.0   268861.0  06037   77         0.000000   \n",
       "3559        3.0        1.0  1225.0   432894.0  06037   94         0.333333   \n",
       "33501       5.0        2.5  2424.0   676000.0  06111   49         1.000000   \n",
       "\n",
       "       scaled_bathrooms  scaled_sqft  scaled_age  enc_fips_06059  \\\n",
       "13026          0.142857     0.232370    0.403670               1   \n",
       "27044          0.285714     0.324237    0.559633               0   \n",
       "30173          0.000000     0.337476    0.697248               0   \n",
       "3559           0.000000     0.289922    0.853211               0   \n",
       "33501          0.428571     0.613888    0.440367               0   \n",
       "\n",
       "       enc_fips_06111  \n",
       "13026               0  \n",
       "27044               0  \n",
       "30173               0  \n",
       "3559                0  \n",
       "33501               1  "
      ]
     },
     "execution_count": 24,
     "metadata": {},
     "output_type": "execute_result"
    }
   ],
   "source": [
    "train.head()"
   ]
  },
  {
   "cell_type": "code",
   "execution_count": 25,
   "id": "46a1e2c3",
   "metadata": {},
   "outputs": [
    {
     "data": {
      "text/plain": [
       "(26088, 12)"
      ]
     },
     "execution_count": 25,
     "metadata": {},
     "output_type": "execute_result"
    }
   ],
   "source": [
    "train.shape"
   ]
  }
 ],
 "metadata": {
  "kernelspec": {
   "display_name": "Python 3 (ipykernel)",
   "language": "python",
   "name": "python3"
  },
  "language_info": {
   "codemirror_mode": {
    "name": "ipython",
    "version": 3
   },
   "file_extension": ".py",
   "mimetype": "text/x-python",
   "name": "python",
   "nbconvert_exporter": "python",
   "pygments_lexer": "ipython3",
   "version": "3.9.7"
  }
 },
 "nbformat": 4,
 "nbformat_minor": 5
}
